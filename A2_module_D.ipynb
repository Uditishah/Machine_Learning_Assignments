{
  "cells": [
    {
      "cell_type": "markdown",
      "metadata": {
        "id": "e8U3vfnegSua"
      },
      "source": [
        "## Module submission header\n",
        "### Submission preparation instructions\n",
        "_Completion of this header is mandatory, subject to a 2-point deduction to the assignment._ Only add plain text in the designated areas, i.e., replacing the relevant 'NA's. You must fill out all group member Names and Drexel email addresses in the below markdown list, under header __Module submission group__. It is required to fill out descriptive notes pertaining to any tutoring support received in the completion of this submission under the __Additional submission comments__ section at the bottom of the header. If no tutoring support was received, leave NA in place. You may as well list other optional comments pertaining to the submission at bottom. _Any distruption of this header's formatting will make your group liable to the 2-point deduction._\n",
        "\n",
        "### Module submission group\n",
        "- Group member 1\n",
        "    - Name: Marissa Lynch\n",
        "    - Email: ml3758@drexel.edu\n",
        "- Group member 2\n",
        "    - Name: Uditi Shah\n",
        "    - Email: us54@drexel.edu\n",
        "- Group member 3\n",
        "    - Name: Yifan Wang\n",
        "    - Email: yw827@drexel.edu\n",
        "\n",
        "### Additional submission comments\n",
        "- Tutoring support received: NA\n",
        "- Other (other): NA"
      ]
    },
    {
      "cell_type": "markdown",
      "metadata": {
        "id": "QBr7Z1KugSuc"
      },
      "source": [
        "# Assignment group 2: Network and exploratory data analysis"
      ]
    },
    {
      "cell_type": "markdown",
      "metadata": {
        "id": "0GRTLjB4gSud"
      },
      "source": [
        "## Module D _(40 pts)_ An ingredient-based recommender system\n",
        "In this module we're going to build a recommender system using some recipes data and the Apriori algorithm. These data can be obtained from Kaggle:\n",
        "\n",
        "- https://www.kaggle.com/kaggle/recipe-ingredients-dataset\n",
        "\n",
        "and are packaged with the assignment in the following directory:\n",
        "\n",
        "- `./data/train.json`"
      ]
    },
    {
      "cell_type": "markdown",
      "metadata": {
        "id": "V-ntPXbOgSud"
      },
      "source": [
        "__D1.__ _(2 pts)_ To start, write a function called `read_recipes`, which takes a string argument called `path_to_recipes_json` that contains the path to a json file containing recipe data. The function should use the `json` package to load the data and then return `recipes`, which will be a list of dictionaries containing the converted json data.\n",
        "\n",
        "(_Hint_: This function will be identical to the one you wrote for _C1_.)"
      ]
    },
    {
      "cell_type": "code",
      "execution_count": 1,
      "metadata": {
        "id": "NRMssJqngSue"
      },
      "outputs": [],
      "source": [
        "# D1:Function(2/2)\n",
        "\n",
        "import json\n",
        "\n",
        "def read_recipes(path_to_recipes_json):\n",
        "\n",
        "    #--- Your code starts here\n",
        "    with open(path_to_recipes_json, 'r') as file:\n",
        "      recipes = json.load(file)\n",
        "    #--- Your code ends here\n",
        "\n",
        "    return recipes\n"
      ]
    },
    {
      "cell_type": "markdown",
      "metadata": {
        "id": "UwOp-Ih_gSuf"
      },
      "source": [
        "To test your function, let's provide it with the path to the `train.json` data and print the first three recipes.\n",
        "\n",
        "Your output should look like this:\n",
        "\n",
        "```\n",
        "{'id': 10259, 'cuisine': 'greek', 'ingredients': ['feta cheese crumbles', 'garlic', 'seasoning', 'grape tomatoes', 'black olives', 'garbanzo beans', 'pepper', 'purple onion', 'romaine lettuce']}\n",
        "\n",
        "{'id': 25693, 'cuisine': 'southern_us', 'ingredients': ['ground pepper', 'ground black pepper', 'vegetable oil', 'plain flour', 'thyme', 'salt', 'green tomatoes', 'milk', 'yellow corn meal', 'eggs', 'tomatoes']}\n",
        "\n",
        "{'id': 20130, 'cuisine': 'filipino', 'ingredients': ['butter', 'green chilies', 'cooking oil', 'chicken livers', 'pepper', 'salt', 'grilled chicken breasts', 'garlic powder', 'soy sauce', 'mayonaise', 'yellow onion', 'eggs']}\n",
        "```"
      ]
    },
    {
      "cell_type": "code",
      "execution_count": 2,
      "metadata": {
        "id": "29okbZQQgSuf",
        "colab": {
          "base_uri": "https://localhost:8080/"
        },
        "outputId": "cbe364ce-3227-454f-ac1b-68c2681e302a"
      },
      "outputs": [
        {
          "output_type": "stream",
          "name": "stdout",
          "text": [
            "{'id': 10259, 'cuisine': 'greek', 'ingredients': ['feta cheese crumbles', 'garlic', 'seasoning', 'grape tomatoes', 'black olives', 'garbanzo beans', 'pepper', 'purple onion', 'romaine lettuce']} \n",
            "\n",
            "{'id': 25693, 'cuisine': 'southern_us', 'ingredients': ['ground pepper', 'ground black pepper', 'vegetable oil', 'plain flour', 'thyme', 'salt', 'green tomatoes', 'milk', 'yellow corn meal', 'eggs', 'tomatoes']} \n",
            "\n",
            "{'id': 20130, 'cuisine': 'filipino', 'ingredients': ['butter', 'green chilies', 'cooking oil', 'chicken livers', 'pepper', 'salt', 'grilled chicken breasts', 'garlic powder', 'soy sauce', 'mayonaise', 'yellow onion', 'eggs']} \n",
            "\n"
          ]
        }
      ],
      "source": [
        "# D1:SanityCheck\n",
        "\n",
        "recipes = read_recipes('./data/train.json')\n",
        "\n",
        "for recipe in recipes[:3]:\n",
        "    print(recipe,\"\\n\")"
      ]
    },
    {
      "cell_type": "markdown",
      "metadata": {
        "id": "sxOV11IigSug"
      },
      "source": [
        "__D2.__ _(5 pts)_ Next, write a function called `count_items` that takes the recipes data you loaded in _D1_ (`recipes`) and uses a `Counter` (i.e., the `counts` object) to count up the number of recipes that include each `ingredient`, storing each in the counter as a single-element tuple (for downstream convenience), i.e., incrementing like `counts[tuple([ingredient])] +=1`. The function returns the populated `counts` object."
      ]
    },
    {
      "cell_type": "code",
      "execution_count": 3,
      "metadata": {
        "id": "6bD3q34ZgSuh"
      },
      "outputs": [],
      "source": [
        "# D2:Function(5/5)\n",
        "\n",
        "from collections import Counter\n",
        "\n",
        "def count_items(recipes):\n",
        "\n",
        "    #---Your code starts here\n",
        "    counts = Counter()\n",
        "    for recipe in recipes:\n",
        "        for ingredient in recipe.get('ingredients', []):\n",
        "            counts[tuple([ingredient])] += 1\n",
        "    #---Your code ends here\n",
        "\n",
        "    return counts"
      ]
    },
    {
      "cell_type": "markdown",
      "metadata": {
        "id": "QUN0aoGzgSuh"
      },
      "source": [
        "To test your `count_items` function, let's apply it to the `recipes` loaded in _D1_ and then print the count for \"salt\" as well as the total number of candidates (i.e., ingredients) in the output. The output should be:\n",
        "```\n",
        "Count for salt: 18048\n",
        "Total # of candidates: 6714\n",
        "```"
      ]
    },
    {
      "cell_type": "code",
      "execution_count": 4,
      "metadata": {
        "id": "DgrKnC6XgSui",
        "colab": {
          "base_uri": "https://localhost:8080/"
        },
        "outputId": "fb6c0488-19dd-41cd-de1a-f8ad0f68231c"
      },
      "outputs": [
        {
          "output_type": "stream",
          "name": "stdout",
          "text": [
            "Count for salt: 18048\n",
            "Total # of candidates: 6714\n"
          ]
        }
      ],
      "source": [
        "# D2:SanityCheck\n",
        "\n",
        "candidates_one = count_items(recipes)\n",
        "\n",
        "print(\"Count for salt: {}\".format(candidates_one[('salt',)]))\n",
        "print(\"Total # of candidates: {}\".format(len(candidates_one)))"
      ]
    },
    {
      "cell_type": "markdown",
      "metadata": {
        "id": "MRV3WiLKgSui"
      },
      "source": [
        "__D3.__ _(5 pts)_ Now, write a function called `store_frequent(candidates, threshold = 25)`, which accepts a `Counter` of `candidates`, i.e., item or itemset counts, and stores only those with count above the determined `threshold` value in a separate counter called `frequent`, which is `return`ed at the end of the function."
      ]
    },
    {
      "cell_type": "code",
      "execution_count": 5,
      "metadata": {
        "id": "AO0yl9tRgSui"
      },
      "outputs": [],
      "source": [
        "# D3:Function(5/5)\n",
        "\n",
        "def store_frequent(candidates, threshold = 25):\n",
        "\n",
        "    #---Your code starts here\n",
        "    frequent = Counter()\n",
        "    for item, count in candidates.items():\n",
        "        if count > threshold:\n",
        "            frequent[item] = count\n",
        "    #---Your code ends here\n",
        "\n",
        "    return frequent"
      ]
    },
    {
      "cell_type": "markdown",
      "metadata": {
        "id": "b1TpE0i2gSuj"
      },
      "source": [
        "To test this function, let's apply it to the `candidates` (output from `count_items(...)`) we generated in _D2_ with a threshold of `4000` and look at the candidates that are above this threshold. The output should be:\n",
        "```\n",
        "Counter({('garlic',): 7380,\n",
        "         ('pepper',): 4438,\n",
        "         ('ground black pepper',): 4784,\n",
        "         ('vegetable oil',): 4385,\n",
        "         ('salt',): 18048,\n",
        "         ('butter',): 4847,\n",
        "         ('water',): 7457,\n",
        "         ('onions',): 7972,\n",
        "         ('sugar',): 6434,\n",
        "         ('olive oil',): 7971,\n",
        "         ('garlic cloves',): 6236,\n",
        "         ('all-purpose flour',): 4632})\n",
        "```"
      ]
    },
    {
      "cell_type": "code",
      "execution_count": 6,
      "metadata": {
        "id": "VB8Lv9UkgSuj",
        "colab": {
          "base_uri": "https://localhost:8080/"
        },
        "outputId": "5ef02e2a-1d8a-4d34-8104-167f458bc611"
      },
      "outputs": [
        {
          "output_type": "execute_result",
          "data": {
            "text/plain": [
              "Counter({('garlic',): 7380,\n",
              "         ('pepper',): 4438,\n",
              "         ('ground black pepper',): 4784,\n",
              "         ('vegetable oil',): 4385,\n",
              "         ('salt',): 18048,\n",
              "         ('butter',): 4847,\n",
              "         ('water',): 7457,\n",
              "         ('onions',): 7972,\n",
              "         ('sugar',): 6434,\n",
              "         ('olive oil',): 7971,\n",
              "         ('garlic cloves',): 6236,\n",
              "         ('all-purpose flour',): 4632})"
            ]
          },
          "metadata": {},
          "execution_count": 6
        }
      ],
      "source": [
        "# D3:SanityCheck\n",
        "frequent = store_frequent(candidates_one, 4000)\n",
        "frequent"
      ]
    },
    {
      "cell_type": "markdown",
      "metadata": {
        "id": "bG-yUpfigSuj"
      },
      "source": [
        "__D4.__ (10 pts) Now, write a function called `get_next(recipes, frequent, threshold = 25)` that accepts the `recipies` from _D1_, a `frequent` object (output from the `store_frequent()` function), and a `threshold`. With these inputs, your function should:\n",
        "\n",
        "1. create a new `Counter` called `next_candidates`\n",
        "2. compute the `size` of the itemsets for `next_candidates` from a single key in `frequent` (e.g., if an element in frequent is `('salt',)` then the size will be 2 and if an element in frequent is `('onions', 'salt')`, then the size is 3).\n",
        "3. `for` any `recipe` with _at least_ as many ingredients as `size`:\n",
        "    1. loop over all itemsets of size `size` (see combinations note below)\n",
        "    2. utilize the apriori principle (see __section 4.2.2.6__) and subsets of itemsets to count up potentially-frequent candidate itemsets in `next_candidates`\n",
        "4. `return(next_candidates)`\n",
        "\n",
        "Note: To complete this part it is _extremely strongly_ encouraged that you import the `combinations()` function from the `itertools` module. With this, you can execute `combinations(items, k)` to find all combinations of size `k` from a list of `items`.\n"
      ]
    },
    {
      "cell_type": "code",
      "execution_count": 7,
      "metadata": {
        "id": "LQsxBqvWgSuj"
      },
      "outputs": [],
      "source": [
        "# D4:Function(8/10)\n",
        "\n",
        "from itertools import combinations\n",
        "\n",
        "def get_next(recipes, frequent, threshold = 25):\n",
        "\n",
        "    #---Your code starts here\n",
        "    next_candidates = Counter()\n",
        "\n",
        "    for itemset in frequent:\n",
        "        size = len(itemset) + 1\n",
        "        break\n",
        "\n",
        "    for recipe in recipes:\n",
        "        ingredients = recipe.get('ingredients', [])\n",
        "\n",
        "        if len(ingredients) >= size:\n",
        "            for itemset in combinations(ingredients, size):\n",
        "                if all(tuple(sorted(subset)) in frequent for subset in combinations(itemset, size - 1)):\n",
        "                    next_candidates[tuple(sorted(itemset))] += 1\n",
        "    #---Your code ends here\n",
        "\n",
        "    return next_candidates"
      ]
    },
    {
      "cell_type": "markdown",
      "metadata": {
        "id": "c5oR92b4gSuk"
      },
      "source": [
        "To test our function, lets first create a `frequent_one` list that contains terms that occur at least 25 times in our `candidates_one` list. Then we'll create the `candidates_two` list using our new `get_next` function and a `frequent_two` list that contains the terms from this new candidate list that occur at least 25 times. We'll print the lengths of `candidates_two` and `frequent_two` as well as the 10 most common words on the `frequent_two` list. Your output should look like this:\n",
        "```\n",
        "Length of candidates_two: 283161\n",
        "Length of frequent_two: 15230\n",
        "\n",
        "10 most common from frequent_two:\n",
        "[(('onions', 'salt'), 4392),\n",
        " (('olive oil', 'salt'), 4177),\n",
        " (('salt', 'water'), 3960),\n",
        " (('pepper', 'salt'), 3844),\n",
        " (('garlic', 'salt'), 3749),\n",
        " (('all-purpose flour', 'salt'), 3079),\n",
        " (('salt', 'sugar'), 3061),\n",
        " (('garlic cloves', 'salt'), 2995),\n",
        " (('butter', 'salt'), 2777),\n",
        " (('ground black pepper', 'salt'), 2734)]\n",
        "```"
      ]
    },
    {
      "cell_type": "code",
      "execution_count": 8,
      "metadata": {
        "id": "pQm_PH9_gSuk",
        "colab": {
          "base_uri": "https://localhost:8080/"
        },
        "outputId": "d7181ce1-96dc-4aa6-83ac-809b8ab7b351"
      },
      "outputs": [
        {
          "output_type": "stream",
          "name": "stdout",
          "text": [
            "Length of candidates_two: 279570\n",
            "Length of frequent_two: 14580\n",
            "\n",
            "10 most common from frequent_two:\n",
            "[(('onions', 'salt'), 4392),\n",
            " (('olive oil', 'salt'), 4177),\n",
            " (('salt', 'water'), 3960),\n",
            " (('pepper', 'salt'), 3844),\n",
            " (('garlic', 'salt'), 3749),\n",
            " (('all-purpose flour', 'salt'), 3079),\n",
            " (('salt', 'sugar'), 3061),\n",
            " (('garlic cloves', 'salt'), 2995),\n",
            " (('butter', 'salt'), 2777),\n",
            " (('ground black pepper', 'salt'), 2734)]\n"
          ]
        }
      ],
      "source": [
        "# D4:SanityCheck\n",
        "\n",
        "from pprint import pprint\n",
        "\n",
        "frequent_one = store_frequent(candidates_one)\n",
        "candidates_two = get_next(recipes, frequent_one)\n",
        "frequent_two = store_frequent(candidates_two)\n",
        "\n",
        "print(\"Length of candidates_two: {}\".format(len(candidates_two)))\n",
        "print(\"Length of frequent_two: {}\".format(len(frequent_two)))\n",
        "print()\n",
        "print(\"10 most common from frequent_two:\")\n",
        "pprint(frequent_two.most_common(10))"
      ]
    },
    {
      "cell_type": "markdown",
      "metadata": {
        "id": "EBPshp0ngSuk"
      },
      "source": [
        "Next, to further test our function, lets apply our `get_next` function to the `frequent_two` list to build up a `candidate_three` list. We will then apply `store_frequent` to this new list to build up a `frequent_three` list. Like before, we'll print the lengths of `candidates_three` and `frequent_three` as well as the 10 most common words on the `frequent_three` list. Your output should look like this:\n",
        "```\n",
        "Length of candidates_three: 212328\n",
        "Length of frequent_three: 24289\n",
        "\n",
        "10 most common from frequent_three:\n",
        "[(('garlic', 'onions', 'salt'), 1605),\n",
        " (('onions', 'pepper', 'salt'), 1342),\n",
        " (('onions', 'salt', 'water'), 1240),\n",
        " (('olive oil', 'onions', 'salt'), 1203),\n",
        " (('garlic', 'olive oil', 'salt'), 1185),\n",
        " (('garlic', 'pepper', 'salt'), 1170),\n",
        " (('olive oil', 'pepper', 'salt'), 1164),\n",
        " (('garlic cloves', 'olive oil', 'salt'), 1130),\n",
        " (('all-purpose flour', 'salt', 'sugar'), 954),\n",
        " (('ground black pepper', 'olive oil', 'salt'), 953)]\n",
        "```"
      ]
    },
    {
      "cell_type": "code",
      "execution_count": 9,
      "metadata": {
        "id": "ScWQe02jgSul",
        "colab": {
          "base_uri": "https://localhost:8080/"
        },
        "outputId": "0977dca4-24cb-4e38-c02e-d35ee712795d"
      },
      "outputs": [
        {
          "output_type": "stream",
          "name": "stdout",
          "text": [
            "Length of candidates_three: 199333\n",
            "Length of frequent_three: 22825\n",
            "\n",
            "10 most common from frequent_three:\n",
            "[(('garlic', 'onions', 'salt'), 1605),\n",
            " (('onions', 'pepper', 'salt'), 1342),\n",
            " (('onions', 'salt', 'water'), 1240),\n",
            " (('olive oil', 'onions', 'salt'), 1203),\n",
            " (('garlic', 'olive oil', 'salt'), 1185),\n",
            " (('garlic', 'pepper', 'salt'), 1170),\n",
            " (('olive oil', 'pepper', 'salt'), 1164),\n",
            " (('garlic cloves', 'olive oil', 'salt'), 1130),\n",
            " (('all-purpose flour', 'salt', 'sugar'), 954),\n",
            " (('ground black pepper', 'olive oil', 'salt'), 953)]\n"
          ]
        }
      ],
      "source": [
        "# D4:SanityCheck\n",
        "\n",
        "candidates_three = get_next(recipes, frequent_two)\n",
        "frequent_three = store_frequent(candidates_three)\n",
        "\n",
        "print(\"Length of candidates_three: {}\".format(len(candidates_three)))\n",
        "print(\"Length of frequent_three: {}\".format(len(frequent_three)))\n",
        "print()\n",
        "print(\"10 most common from frequent_three:\")\n",
        "pprint(frequent_three.most_common(10))"
      ]
    },
    {
      "cell_type": "code",
      "execution_count": 10,
      "metadata": {
        "id": "QCEKt1HBgSul",
        "colab": {
          "base_uri": "https://localhost:8080/"
        },
        "outputId": "387be8ca-2a24-471c-8d97-abca9ceca4f0"
      },
      "outputs": [
        {
          "output_type": "stream",
          "name": "stdout",
          "text": [
            "Yes\n"
          ]
        }
      ],
      "source": [
        "# D4:Inline\n",
        "\n",
        "# Does running the above processes become more computationally\n",
        "# expensive as the size gets larger? Print \"Yes\" or \"No\"\n",
        "print(\"Yes\")"
      ]
    },
    {
      "cell_type": "markdown",
      "metadata": {
        "id": "-UYvbaregSul"
      },
      "source": [
        "__D5.__ (10 pts) Now that we have the pieces to run Apriori/collect frequent itemsets it's time to package the process together, collecting all frequent itemsets up to a particular `size`. To do this, write a function called `train(recipes, size = 4)`, which:\n",
        "\n",
        "1. initializes two empty dictionaries, `candidates`, and `frequent`;\n",
        "2. runs the `count_items` and `store_frequent` function, storing output in the `candidates`, and `frequent` dictionaries using the integer `1` as a key;\n",
        "3. loops over sizes: 2, 3, .., `size` to compute and store the subsequent sizes candidates and frequent itemsets in the same structure as (2), but now utilizing the `get_next` function, instead of `count_items`; and\n",
        "4. `return`s the `candidates` and `frequent` itemsets."
      ]
    },
    {
      "cell_type": "code",
      "execution_count": 74,
      "metadata": {
        "id": "2oEcce-egSum"
      },
      "outputs": [],
      "source": [
        "def train(recipes, size = 4):\n",
        "\n",
        "    #---Your code starts here\n",
        "    candidates = {}\n",
        "    frequent = {}\n",
        "\n",
        "    candidates[1] = count_items(recipes)\n",
        "    frequent[1] = store_frequent(candidates[1], threshold=24)\n",
        "\n",
        "    for i in range(2, size + 1):\n",
        "        candidates[i] = get_next(recipes, frequent[i - 1], threshold=24)\n",
        "        frequent[i] = store_frequent(candidates[i], threshold=24)\n",
        "    #---Your code ends here\n",
        "\n",
        "    return candidates, frequent"
      ]
    },
    {
      "cell_type": "code",
      "source": [],
      "metadata": {
        "id": "mmtguxUHKScq"
      },
      "execution_count": null,
      "outputs": []
    },
    {
      "cell_type": "markdown",
      "metadata": {
        "id": "wprnPV_EgSum"
      },
      "source": [
        "To test your `train` function, let's apply it to the recipes data and build up the candidate and frequent lists up to size 4. Let's then print out the size of the candidates and frequent for different sizes. Your output should look like this:\n",
        "```\n",
        "size=1, # candidates=6714, # frequent=1486\n",
        "size=2, # candidates=283161, # frequent=15230\n",
        "size=3, # candidates=212328, # frequent=24289\n",
        "size=4, # candidates=45194, # frequent=12249\n",
        "```"
      ]
    },
    {
      "cell_type": "code",
      "execution_count": 75,
      "metadata": {
        "id": "gbE68XBAgSum",
        "colab": {
          "base_uri": "https://localhost:8080/"
        },
        "outputId": "e87c1fd7-f01c-40c3-abc6-ff4e521133e8"
      },
      "outputs": [
        {
          "output_type": "stream",
          "name": "stdout",
          "text": [
            "size=1, # candidates=6714, # frequent=1486\n",
            "size=2, # candidates=283161, # frequent=15230\n",
            "size=3, # candidates=212328, # frequent=24289\n",
            "size=4, # candidates=45194, # frequent=12249\n"
          ]
        }
      ],
      "source": [
        "size = 4\n",
        "candidates, frequent = train(recipes, size)\n",
        "for i in range(1,size + 1):\n",
        "    print(\"size={}, # candidates={}, # frequent={}\".format(i, len(candidates[i]), len(frequent[i])))"
      ]
    },
    {
      "cell_type": "markdown",
      "metadata": {
        "id": "FHCvH7AygSum"
      },
      "source": [
        "__D6.__ _(8 pts)_ Now that we have our `frequent` itemsets up to `size`, we can utilize them to recommend missing ingredients from ingredient 'baskets' of at most `size - 1`. To do this, write a function called `recommend(basket, frequent)` that does the following:\n",
        "\n",
        "1. initializes an empty `recommendations` list\n",
        "2. loops over all frequent `itemset`s of `size 1 greater than the `basket`\n",
        "    - if there's one item left from the `itemset` when the `basket` elements have been removed, append the remaining item to the `recommendations` list in a tuple, with the number of ocurrences of the itemset in the second position\n",
        "4. `return` `recommendations`, but sorted from high to low by itemset ocurrence.\n",
        "\n",
        "Additionally: Your function should return the string `'No candidates computed for baskets of this size!'` when appropriate to alert the user to not having trained on itemsets large enough."
      ]
    },
    {
      "cell_type": "code",
      "execution_count": 20,
      "metadata": {
        "id": "jsLLRyTtgSun"
      },
      "outputs": [],
      "source": [
        "# D6:Function(7/8)\n",
        "\n",
        "def recommend(basket, frequent):\n",
        "\n",
        "    #---Your code starts here\n",
        "    recommendations = []\n",
        "    basket_size = len(basket)\n",
        "\n",
        "    size_to_check = basket_size + 1\n",
        "\n",
        "    if size_to_check not in frequent:\n",
        "        return 'No candidates computed'\n",
        "\n",
        "    for itemset, count in frequent[size_to_check].items():\n",
        "        if set(basket).issubset(itemset):\n",
        "            remaining_items = set(itemset) - set(basket)\n",
        "            if remaining_items:\n",
        "                for item in remaining_items:\n",
        "                    recommendations.append((item, count))\n",
        "\n",
        "    recommendations.sort(key=lambda x: x[1], reverse=True)\n",
        "    #---Your code ends here\n",
        "\n",
        "    return recommendations"
      ]
    },
    {
      "cell_type": "markdown",
      "metadata": {
        "id": "K8AKqLV9gSun"
      },
      "source": [
        "To test your `recommend` function, let's pass in the `frequent` object we generated with our `train` function and then use it to identify the top 10 recommendations for the following: `basket = tuple(['butter', 'flour'])`. Your output should look like this:\n",
        "```\n",
        "[('salt', 306),\n",
        " ('milk', 155),\n",
        " ('sugar', 149),\n",
        " ('eggs', 137),\n",
        " ('onions', 104),\n",
        " ('pepper', 103),\n",
        " ('baking powder', 81),\n",
        " ('garlic', 74),\n",
        " ('water', 70),\n",
        " ('olive oil', 52)]\n",
        "```"
      ]
    },
    {
      "cell_type": "code",
      "execution_count": 16,
      "metadata": {
        "id": "5KQ2Q1aUgSun",
        "colab": {
          "base_uri": "https://localhost:8080/"
        },
        "outputId": "904a8890-e42b-4a12-ab1e-4f64435b13c2"
      },
      "outputs": [
        {
          "output_type": "execute_result",
          "data": {
            "text/plain": [
              "[('salt', 306),\n",
              " ('milk', 155),\n",
              " ('sugar', 149),\n",
              " ('eggs', 137),\n",
              " ('onions', 104),\n",
              " ('pepper', 103),\n",
              " ('baking powder', 81),\n",
              " ('garlic', 74),\n",
              " ('water', 70),\n",
              " ('olive oil', 52)]"
            ]
          },
          "metadata": {},
          "execution_count": 16
        }
      ],
      "source": [
        "# D6:SanityCheck\n",
        "recommend(tuple(['butter', 'flour']), frequent)[:10]"
      ]
    },
    {
      "cell_type": "markdown",
      "metadata": {
        "id": "910GVK3vgSun"
      },
      "source": [
        "Let's test your function one more time by using it to identify the top 10 recommendations for the following: `basket = tuple(['avocado', 'garlic', 'salt'])`. Your output should look like this:\n",
        "```\n",
        "[('olive oil', 61),\n",
        " ('lime', 61),\n",
        " ('pepper', 52),\n",
        " ('cilantro', 48),\n",
        " ('onions', 44),\n",
        " ('chili powder', 43),\n",
        " ('cumin', 43),\n",
        " ('jalapeno chilies', 39),\n",
        " ('sour cream', 38),\n",
        " ('ground cumin', 35)]\n",
        "```"
      ]
    },
    {
      "cell_type": "code",
      "execution_count": 17,
      "metadata": {
        "id": "yXQryuS6gSun",
        "colab": {
          "base_uri": "https://localhost:8080/"
        },
        "outputId": "94e9532d-90c3-4df5-8ac0-5ac19d60e47c"
      },
      "outputs": [
        {
          "output_type": "execute_result",
          "data": {
            "text/plain": [
              "[('olive oil', 61),\n",
              " ('lime', 61),\n",
              " ('pepper', 52),\n",
              " ('cilantro', 48),\n",
              " ('onions', 44),\n",
              " ('chili powder', 43),\n",
              " ('cumin', 43),\n",
              " ('jalapeno chilies', 39),\n",
              " ('sour cream', 38),\n",
              " ('ground cumin', 35)]"
            ]
          },
          "metadata": {},
          "execution_count": 17
        }
      ],
      "source": [
        "# D6:SanityCheck\n",
        "recommend(tuple(['avocado', 'garlic', 'salt']), frequent)[:10]"
      ]
    },
    {
      "cell_type": "code",
      "execution_count": 19,
      "metadata": {
        "id": "UafTlhQAgSuo",
        "colab": {
          "base_uri": "https://localhost:8080/"
        },
        "outputId": "23af9173-3495-449a-fd82-ef47fedef737"
      },
      "outputs": [
        {
          "output_type": "stream",
          "name": "stdout",
          "text": [
            "Yes\n"
          ]
        }
      ],
      "source": [
        "# D6:Inline(1/8)\n",
        "\n",
        "# Does the output of our recommender seem appropriate?\n",
        "# Print \"Yes\" or \"No\"\n",
        "print(\"Yes\")"
      ]
    }
  ],
  "metadata": {
    "kernelspec": {
      "display_name": "Python 3",
      "language": "python",
      "name": "python3"
    },
    "language_info": {
      "codemirror_mode": {
        "name": "ipython",
        "version": 3
      },
      "file_extension": ".py",
      "mimetype": "text/x-python",
      "name": "python",
      "nbconvert_exporter": "python",
      "pygments_lexer": "ipython3",
      "version": "3.8.6"
    },
    "colab": {
      "provenance": []
    }
  },
  "nbformat": 4,
  "nbformat_minor": 0
}