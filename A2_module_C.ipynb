{
  "cells": [
    {
      "cell_type": "markdown",
      "metadata": {
        "id": "J3PdbGMOpbyN"
      },
      "source": [
        "## Module submission header\n",
        "### Submission preparation instructions\n",
        "_Completion of this header is mandatory, subject to a 2-point deduction to the assignment._ Only add plain text in the designated areas, i.e., replacing the relevant 'NA's. You must fill out all group member Names and Drexel email addresses in the below markdown list, under header __Module submission group__. It is required to fill out descriptive notes pertaining to any tutoring support received in the completion of this submission under the __Additional submission comments__ section at the bottom of the header. If no tutoring support was received, leave NA in place. You may as well list other optional comments pertaining to the submission at bottom. _Any distruption of this header's formatting will make your group liable to the 2-point deduction._\n",
        "\n",
        "### Module submission group\n",
        "- Group member 1\n",
        "    - Name: Marissa Lynch\n",
        "    - Email: ml3758@drexel.edu\n",
        "- Group member 2\n",
        "    - Name: Uditi Shah\n",
        "    - Email: us54@drexel.edu\n",
        "- Group member 3\n",
        "    - Name: Yifan Wang\n",
        "    - Email: yw827@drexel.edu\n",
        "\n",
        "### Additional submission comments\n",
        "- Tutoring support received: NA\n",
        "- Other (other): NA"
      ]
    },
    {
      "cell_type": "markdown",
      "metadata": {
        "id": "zNyhi_ufpbyQ"
      },
      "source": [
        "# Assignment group 2: Network and exploratory data analysis"
      ]
    },
    {
      "cell_type": "markdown",
      "metadata": {
        "id": "BZlVYMqIpbyQ"
      },
      "source": [
        "## Module C _(40 pts)_ Exploring a network of ingredients\n",
        "In this section we're going to experiment with some recipes data, but think of them as a network. These data can be obtained from Kaggle:\n",
        "\n",
        "- https://www.kaggle.com/kaggle/recipe-ingredients-dataset\n",
        "\n",
        "and are packaged with the assignment in the following directory:\n",
        "\n",
        "- `./data/train.json`"
      ]
    },
    {
      "cell_type": "markdown",
      "metadata": {
        "id": "UTW5fdCepbyR"
      },
      "source": [
        "__C1.__ _(2 pts)_ To start, write a function called `read_recipes`, which takes a string argument called `path_to_recipes_json` that contains the path to a json file containing recipe data. The function should use the `json` package to load the data and then return `recipes`, which will be a list of dictionaries containing the converted json data."
      ]
    },
    {
      "cell_type": "code",
      "execution_count": null,
      "metadata": {
        "id": "Po-PkF81pbyR"
      },
      "outputs": [],
      "source": [
        "# C1:Function(2/2)\n",
        "\n",
        "import json\n",
        "\n",
        "def read_recipes(path_to_recipes_json):\n",
        "\n",
        "    #--- Your code starts here\n",
        "    with open(path_to_recipes_json, 'r') as file:\n",
        "        recipes = json.load(file)\n",
        "    #--- Your code ends here\n",
        "\n",
        "    return recipes\n"
      ]
    },
    {
      "cell_type": "code",
      "source": [
        "from google.colab import drive\n",
        "drive.mount('/content/drive')"
      ],
      "metadata": {
        "colab": {
          "base_uri": "https://localhost:8080/"
        },
        "id": "mtHGYD1bs2vj",
        "outputId": "5dd1c53c-30d5-43f8-d4ec-b6116d40d868"
      },
      "execution_count": null,
      "outputs": [
        {
          "output_type": "stream",
          "name": "stdout",
          "text": [
            "Mounted at /content/drive\n"
          ]
        }
      ]
    },
    {
      "cell_type": "markdown",
      "metadata": {
        "id": "e0aJUf-EpbyS"
      },
      "source": [
        "To test your function, let's provide it with the path to the `train.json` data and print the first three recipes.\n",
        "\n",
        "Your output should look like this:\n",
        "\n",
        "```\n",
        "{'id': 10259, 'cuisine': 'greek', 'ingredients': ['feta cheese crumbles', 'garlic', 'seasoning', 'grape tomatoes', 'black olives', 'garbanzo beans', 'pepper', 'purple onion', 'romaine lettuce']}\n",
        "\n",
        "{'id': 25693, 'cuisine': 'southern_us', 'ingredients': ['ground pepper', 'ground black pepper', 'vegetable oil', 'plain flour', 'thyme', 'salt', 'green tomatoes', 'milk', 'yellow corn meal', 'eggs', 'tomatoes']}\n",
        "\n",
        "{'id': 20130, 'cuisine': 'filipino', 'ingredients': ['butter', 'green chilies', 'cooking oil', 'chicken livers', 'pepper', 'salt', 'grilled chicken breasts', 'garlic powder', 'soy sauce', 'mayonaise', 'yellow onion', 'eggs']}\n",
        "```"
      ]
    },
    {
      "cell_type": "code",
      "execution_count": null,
      "metadata": {
        "id": "L7gtgqeTpbyS",
        "colab": {
          "base_uri": "https://localhost:8080/"
        },
        "outputId": "d63bb972-ab76-41d9-c8bf-5d7535dea906"
      },
      "outputs": [
        {
          "output_type": "stream",
          "name": "stdout",
          "text": [
            "{'id': 10259, 'cuisine': 'greek', 'ingredients': ['romaine lettuce', 'black olives', 'grape tomatoes', 'garlic', 'pepper', 'purple onion', 'seasoning', 'garbanzo beans', 'feta cheese crumbles']} \n",
            "\n",
            "{'id': 25693, 'cuisine': 'southern_us', 'ingredients': ['plain flour', 'ground pepper', 'salt', 'tomatoes', 'ground black pepper', 'thyme', 'eggs', 'green tomatoes', 'yellow corn meal', 'milk', 'vegetable oil']} \n",
            "\n",
            "{'id': 20130, 'cuisine': 'filipino', 'ingredients': ['eggs', 'pepper', 'salt', 'mayonaise', 'cooking oil', 'green chilies', 'grilled chicken breasts', 'garlic powder', 'yellow onion', 'soy sauce', 'butter', 'chicken livers']} \n",
            "\n"
          ]
        }
      ],
      "source": [
        "# C1:SanityCheck\n",
        "\n",
        "recipes = read_recipes('./data/train.json')\n",
        "\n",
        "for recipe in recipes[:3]:\n",
        "    print(recipe,\"\\n\")"
      ]
    },
    {
      "cell_type": "markdown",
      "metadata": {
        "id": "B2m39gM_pbyT"
      },
      "source": [
        "__C2.__ _(5 pts)_ Write a function called `create_recipe_graph` that takes the output from our `read_recipes` function (i.e., `recipe_data`) and builds an _undirected_ network representation of the ingredients data using the NetworkX module. The output of this function should be a graph where nodes represent ingredients and for each pair of ingredients that appear in the same recipe there should be a link between them. Note that output graph should be of the NetworkX `.Graph()` type."
      ]
    },
    {
      "cell_type": "code",
      "execution_count": null,
      "metadata": {
        "id": "NglU7Pl7pbyT"
      },
      "outputs": [],
      "source": [
        "# C2:Function(5/5)\n",
        "\n",
        "import networkx as nx\n",
        "\n",
        "def create_recipe_graph(recipe_data):\n",
        "\n",
        "    #--- Your code starts here\n",
        "    graph = nx.Graph()\n",
        "\n",
        "    for recipe in recipe_data:\n",
        "        ingredients = recipe.get('ingredients', [])\n",
        "        for i in range(len(ingredients)):\n",
        "            for j in range(i + 1, len(ingredients)):\n",
        "                ingredient_one = ingredients[i]\n",
        "                ingredient_two = ingredients[j]\n",
        "                if not graph.has_edge(ingredient_one, ingredient_two):\n",
        "                    graph.add_edge(ingredient_one, ingredient_two)\n",
        "    #---Your code ends here\n",
        "\n",
        "    return graph"
      ]
    },
    {
      "cell_type": "markdown",
      "metadata": {
        "id": "bT1T-hBmpbyT"
      },
      "source": [
        "To evaluate your function, let's apply it to the recipies we've loaded and print the edges connected to the \"feta cheese crumbles\" ingredient node.\n",
        "\n",
        "Your output should look like this:\n",
        "```\n",
        "('feta cheese crumbles', 'feta cheese crumbles')\n",
        "('feta cheese crumbles', 'garlic')\n",
        "('feta cheese crumbles', 'seasoning')\n",
        "('feta cheese crumbles', 'grape tomatoes')\n",
        "('feta cheese crumbles', 'black olives')\n",
        "('feta cheese crumbles', 'garbanzo beans')\n",
        "('feta cheese crumbles', 'pepper')\n",
        "('feta cheese crumbles', 'purple onion')\n",
        "('feta cheese crumbles', 'romaine lettuce')\n",
        "('feta cheese crumbles', 'baby spinach leaves')\n",
        "('feta cheese crumbles', 'ground cinnamon')\n",
        "('feta cheese crumbles', 'olive oil')\n",
        "('feta cheese crumbles', 'hamburger buns')\n",
        "('feta cheese crumbles', 'balsamic vinegar')\n",
        "...\n",
        "```"
      ]
    },
    {
      "cell_type": "code",
      "execution_count": null,
      "metadata": {
        "id": "RrdQXZ2xpbyU",
        "colab": {
          "base_uri": "https://localhost:8080/"
        },
        "outputId": "3a4085ed-e2f0-4319-80ce-16d851e59329"
      },
      "outputs": [
        {
          "output_type": "stream",
          "name": "stdout",
          "text": [
            "('feta cheese crumbles', 'olive oil')\n",
            "('feta cheese crumbles', 'salt')\n",
            "('feta cheese crumbles', 'hamburger buns')\n",
            "('feta cheese crumbles', 'paprika')\n",
            "('feta cheese crumbles', 'chopped fresh mint')\n",
            "('feta cheese crumbles', 'ground cinnamon')\n",
            "('feta cheese crumbles', 'balsamic vinegar')\n",
            "('feta cheese crumbles', 'baby spinach leaves')\n",
            "('feta cheese crumbles', 'ground lamb')\n",
            "('feta cheese crumbles', 'tomatoes')\n",
            "('feta cheese crumbles', 'extra-virgin olive oil')\n",
            "('feta cheese crumbles', 'juice')\n",
            "('feta cheese crumbles', 'green pepper')\n",
            "('feta cheese crumbles', 'cucumber')\n",
            "('feta cheese crumbles', 'capers')\n",
            "('feta cheese crumbles', 'vinaigrette dressing')\n",
            "('feta cheese crumbles', 'kalamata')\n",
            "('feta cheese crumbles', 'lemon juice')\n",
            "('feta cheese crumbles', 'dried oregano')\n",
            "('feta cheese crumbles', 'chopped parsley')\n",
            "('feta cheese crumbles', 'fresh rosemary')\n",
            "('feta cheese crumbles', 'fresh thyme leaves')\n",
            "('feta cheese crumbles', 'onions')\n",
            "('feta cheese crumbles', 'minced garlic')\n",
            "('feta cheese crumbles', 'yellow bell pepper')\n",
            "('feta cheese crumbles', 'mint leaves')\n",
            "('feta cheese crumbles', 'fat skimmed chicken broth')\n",
            "('feta cheese crumbles', 'couscous')\n",
            "('feta cheese crumbles', 'greek seasoning')\n",
            "('feta cheese crumbles', 'brown rice')\n",
            "('feta cheese crumbles', 'chicken stock')\n",
            "('feta cheese crumbles', 'red bell pepper')\n",
            "('feta cheese crumbles', '1% low-fat cottage cheese')\n",
            "('feta cheese crumbles', 'frozen chopped spinach')\n",
            "('feta cheese crumbles', 'ground nutmeg')\n",
            "('feta cheese crumbles', 'dried basil')\n",
            "('feta cheese crumbles', 'garlic cloves')\n",
            "('feta cheese crumbles', 'pasta')\n",
            "('feta cheese crumbles', 'marinara sauce')\n",
            "('feta cheese crumbles', 'fresh parsley')\n",
            "('feta cheese crumbles', 'cherry tomatoes')\n",
            "('feta cheese crumbles', 'sea salt')\n",
            "('feta cheese crumbles', 'white wine vinegar')\n",
            "('feta cheese crumbles', 'quinoa')\n",
            "('feta cheese crumbles', 'english cucumber')\n",
            "('feta cheese crumbles', 'honey')\n",
            "('feta cheese crumbles', 'italian seasoning')\n",
            "('feta cheese crumbles', 'baby spinach')\n",
            "('feta cheese crumbles', 'red pepper flakes')\n",
            "('feta cheese crumbles', 'cannellini beans')\n",
            "('feta cheese crumbles', 'diced tomatoes')\n",
            "('feta cheese crumbles', 'chopped cilantro fresh')\n",
            "('feta cheese crumbles', 'rosemary sprigs')\n",
            "('feta cheese crumbles', 'ground black pepper')\n",
            "('feta cheese crumbles', 'fat free less sodium chicken broth')\n",
            "('feta cheese crumbles', 'shallots')\n",
            "('feta cheese crumbles', 'white bread')\n",
            "('feta cheese crumbles', 'pitted kalamata olives')\n",
            "('feta cheese crumbles', 'cooking spray')\n",
            "('feta cheese crumbles', 'boneless skinless chicken breast halves')\n",
            "('feta cheese crumbles', 'eggs')\n",
            "('feta cheese crumbles', 'coarse salt')\n",
            "('feta cheese crumbles', 'boiling water')\n",
            "('feta cheese crumbles', 'pinenuts')\n",
            "('feta cheese crumbles', 'roasted red peppers')\n",
            "('feta cheese crumbles', 'yellow onion')\n",
            "('feta cheese crumbles', 'greek yogurt')\n",
            "('feta cheese crumbles', 'ground beef')\n",
            "('feta cheese crumbles', 'black pepper')\n",
            "('feta cheese crumbles', 'dill weed')\n",
            "('feta cheese crumbles', 'nutmeg')\n",
            "('feta cheese crumbles', 'kosher salt')\n",
            "('feta cheese crumbles', 'grated parmesan cheese')\n",
            "('feta cheese crumbles', 'sour cream')\n",
            "('feta cheese crumbles', 'ground turkey')\n",
            "('feta cheese crumbles', 'part-skim mozzarella cheese')\n",
            "('feta cheese crumbles', 'all-purpose flour')\n",
            "('feta cheese crumbles', 'large eggs')\n",
            "('feta cheese crumbles', 'fresh onion')\n",
            "('feta cheese crumbles', 'fat free milk')\n",
            "('feta cheese crumbles', 'baking powder')\n",
            "('feta cheese crumbles', 'grated lemon zest')\n",
            "('feta cheese crumbles', 'fat free yogurt')\n",
            "('feta cheese crumbles', 'fresh lemon juice')\n",
            "('feta cheese crumbles', 'dried rosemary')\n",
            "('feta cheese crumbles', 'green bell pepper')\n",
            "('feta cheese crumbles', 'golden beets')\n",
            "('feta cheese crumbles', 'pizza doughs')\n",
            "('feta cheese crumbles', 'fresh oregano')\n",
            "('feta cheese crumbles', 'sliced kalamata olives')\n",
            "('feta cheese crumbles', 'flatbread')\n",
            "('feta cheese crumbles', 'sliced cucumber')\n",
            "('feta cheese crumbles', 'fresh mushrooms')\n",
            "('feta cheese crumbles', 'ripe olives')\n",
            "('feta cheese crumbles', 'sub buns')\n",
            "('feta cheese crumbles', 'Balsamico Bianco')\n",
            "('feta cheese crumbles', 'lettuce leaves')\n",
            "('feta cheese crumbles', 'ham')\n",
            "('feta cheese crumbles', 'turkey breast')\n",
            "('feta cheese crumbles', 'fresh spinach')\n",
            "('feta cheese crumbles', 'warm water')\n",
            "('feta cheese crumbles', 'crushed red pepper')\n",
            "('feta cheese crumbles', 'dry yeast')\n",
            "('feta cheese crumbles', 'butter')\n",
            "('feta cheese crumbles', 'diced onions')\n",
            "('feta cheese crumbles', 'medium shrimp')\n",
            "('feta cheese crumbles', 'angel hair')\n",
            "('feta cheese crumbles', 'dry white wine')\n",
            "('feta cheese crumbles', 'penne pasta')\n",
            "('feta cheese crumbles', 'low salt chicken broth')\n",
            "('feta cheese crumbles', 'portabello mushroom')\n",
            "('feta cheese crumbles', 'green onions')\n",
            "('feta cheese crumbles', 'chicken fingers')\n",
            "('feta cheese crumbles', 'plum tomatoes')\n",
            "('feta cheese crumbles', 'roast red peppers, drain')\n",
            "('feta cheese crumbles', 'french baguette')\n",
            "('feta cheese crumbles', 'red wine vinegar')\n",
            "('feta cheese crumbles', 'salad dressing')\n",
            "('feta cheese crumbles', 'peas')\n",
            "('feta cheese crumbles', 'chicken')\n",
            "('feta cheese crumbles', 'mayonaise')\n",
            "('feta cheese crumbles', 'celery')\n",
            "('feta cheese crumbles', 'fresh basil')\n",
            "('feta cheese crumbles', 'yoghurt')\n",
            "('feta cheese crumbles', 'sugar')\n",
            "('feta cheese crumbles', 'olives')\n",
            "('feta cheese crumbles', 'green tomatoes')\n",
            "('feta cheese crumbles', 'baguette')\n",
            "('feta cheese crumbles', 'boneless chicken thighs')\n",
            "('feta cheese crumbles', 'water')\n",
            "('feta cheese crumbles', 'anchovy paste')\n",
            "('feta cheese crumbles', 'green beans')\n",
            "('feta cheese crumbles', 'red potato')\n",
            "('feta cheese crumbles', 'dried thyme')\n",
            "('feta cheese crumbles', 'chopped onion')\n",
            "('feta cheese crumbles', 'radishes')\n",
            "('feta cheese crumbles', 'whole wheat pita bread')\n",
            "('feta cheese crumbles', 'chopped green bell pepper')\n",
            "('feta cheese crumbles', 'flat leaf parsley')\n",
            "('feta cheese crumbles', 'crushed tomatoes')\n",
            "('feta cheese crumbles', 'arugula')\n",
            "('feta cheese crumbles', 'cauliflower')\n",
            "('feta cheese crumbles', 'rigatoni')\n",
            "('feta cheese crumbles', 'non-fat sour cream')\n",
            "('feta cheese crumbles', 'baking potatoes')\n",
            "('feta cheese crumbles', 'skim milk')\n",
            "('feta cheese crumbles', 'bacon')\n",
            "('feta cheese crumbles', 'diced tomatoes in juice')\n",
            "('feta cheese crumbles', 'artichoke hearts')\n",
            "('feta cheese crumbles', 'pitted black olives')\n",
            "('feta cheese crumbles', 'linguine')\n",
            "('feta cheese crumbles', 'boneless chicken breast')\n",
            "('feta cheese crumbles', 'french bread')\n",
            "('feta cheese crumbles', 'cream cheese, soften')\n",
            "('feta cheese crumbles', 'dijon mustard')\n",
            "('feta cheese crumbles', 'diced red onions')\n",
            "('feta cheese crumbles', 'cracked black pepper')\n",
            "('feta cheese crumbles', 'fat-free mayonnaise')\n",
            "('feta cheese crumbles', 'caesar salad dressing')\n",
            "('feta cheese crumbles', 'salsa verde')\n",
            "('feta cheese crumbles', 'reduced sodium chicken broth')\n",
            "('feta cheese crumbles', 'milk')\n",
            "('feta cheese crumbles', 'tortilla chips')\n",
            "('feta cheese crumbles', 'cooked chicken')\n",
            "('feta cheese crumbles', 'chopped garlic')\n",
            "('feta cheese crumbles', 'red leaf lettuce')\n",
            "('feta cheese crumbles', 'vegetable oil')\n",
            "('feta cheese crumbles', 'corn tortillas')\n",
            "('feta cheese crumbles', 'chili')\n",
            "('feta cheese crumbles', 'mango')\n",
            "('feta cheese crumbles', 'hominy')\n",
            "('feta cheese crumbles', 'monterey jack')\n",
            "('feta cheese crumbles', 'pineapple')\n",
            "('feta cheese crumbles', 'lamb')\n",
            "('feta cheese crumbles', 'fresh mint')\n",
            "('feta cheese crumbles', 'fresh parsley leaves')\n",
            "('feta cheese crumbles', 'eggplant')\n",
            "('feta cheese crumbles', 'fresh green bean')\n",
            "('feta cheese crumbles', 'boneless chicken skinless thigh')\n",
            "('feta cheese crumbles', 'ground pepper')\n",
            "('feta cheese crumbles', 'plain low-fat yogurt')\n",
            "('feta cheese crumbles', 'zucchini')\n",
            "('feta cheese crumbles', 'large garlic cloves')\n",
            "('feta cheese crumbles', 'lamb shoulder')\n",
            "('feta cheese crumbles', 'lemon pepper seasoning')\n",
            "('feta cheese crumbles', 'finely chopped onion')\n",
            "('feta cheese crumbles', 'minced onion')\n",
            "('feta cheese crumbles', 'allspice')\n",
            "('feta cheese crumbles', 'ground cumin')\n",
            "('feta cheese crumbles', 'fresh leav spinach')\n",
            "('feta cheese crumbles', 'ground turkey breast')\n",
            "('feta cheese crumbles', 'sumac')\n",
            "('feta cheese crumbles', 'greek style plain yogurt')\n",
            "('feta cheese crumbles', 'bread ciabatta')\n",
            "('feta cheese crumbles', 'chili powder')\n",
            "('feta cheese crumbles', 'corn')\n",
            "('feta cheese crumbles', 'crema mexicana')\n",
            "('feta cheese crumbles', 'cilantro leaves')\n",
            "('feta cheese crumbles', 'lime wedges')\n",
            "('feta cheese crumbles', 'burgers')\n",
            "('feta cheese crumbles', 'feta cheese')\n",
            "('feta cheese crumbles', 'red pepper')\n",
            "('feta cheese crumbles', 'stuffing mix')\n",
            "('feta cheese crumbles', 'whole wheat hamburger buns')\n",
            "('feta cheese crumbles', 'nonfat greek yogurt')\n",
            "('feta cheese crumbles', 'dried dill')\n",
            "('feta cheese crumbles', 'chopped pecans')\n",
            "('feta cheese crumbles', 'spicy brown mustard')\n",
            "('feta cheese crumbles', 'black-eyed peas')\n",
            "('feta cheese crumbles', 'beets')\n",
            "('feta cheese crumbles', 'grated orange')\n",
            "('feta cheese crumbles', 'rice vinegar')\n",
            "('feta cheese crumbles', 'sweet onion')\n",
            "('feta cheese crumbles', 'sliced black olives')\n",
            "('feta cheese crumbles', 'bow-tie pasta')\n",
            "('feta cheese crumbles', 'salt and ground black pepper')\n",
            "('feta cheese crumbles', 'tagliatelle')\n",
            "('feta cheese crumbles', 'bows')\n",
            "('feta cheese crumbles', 'roma tomatoes')\n",
            "('feta cheese crumbles', 'sun-dried tomatoes in oil')\n",
            "('feta cheese crumbles', 'pork tenderloin')\n",
            "('feta cheese crumbles', 'fresh dill')\n",
            "('feta cheese crumbles', 'pitted olives')\n",
            "('feta cheese crumbles', 'dillweed')\n",
            "('feta cheese crumbles', 'sliced green onions')\n",
            "('feta cheese crumbles', 'shredded sharp cheddar cheese')\n",
            "('feta cheese crumbles', 'vegetable oil cooking spray')\n",
            "('feta cheese crumbles', 'phyllo pastry')\n",
            "('feta cheese crumbles', 'spinach')\n",
            "('feta cheese crumbles', 'fresh basil leaves')\n",
            "('feta cheese crumbles', 'oil')\n",
            "('feta cheese crumbles', 'lemon')\n",
            "('feta cheese crumbles', 'plain yogurt')\n",
            "('feta cheese crumbles', 'pitas')\n",
            "('feta cheese crumbles', 'phyllo dough')\n",
            "('feta cheese crumbles', 'potatoes')\n",
            "('feta cheese crumbles', 'beef broth')\n",
            "('feta cheese crumbles', 'lemon zest')\n",
            "('feta cheese crumbles', 'cooked white rice')\n",
            "('feta cheese crumbles', 'nonfat yogurt')\n",
            "('feta cheese crumbles', 'long-grain rice')\n",
            "('feta cheese crumbles', 'ground red pepper')\n",
            "('feta cheese crumbles', 'garlic powder')\n",
            "('feta cheese crumbles', 'swordfish steaks')\n",
            "('feta cheese crumbles', 'bread')\n",
            "('feta cheese crumbles', 'cheddar cheese')\n",
            "('feta cheese crumbles', 'ricotta cheese')\n",
            "('feta cheese crumbles', 'large egg whites')\n",
            "('feta cheese crumbles', '1% low-fat milk')\n",
            "('feta cheese crumbles', 'boneless skinless chicken breasts')\n",
            "('feta cheese crumbles', 'melted butter')\n",
            "('feta cheese crumbles', 'processed cheese')\n",
            "('feta cheese crumbles', 'white vinegar')\n",
            "('feta cheese crumbles', 'shredded mozzarella cheese')\n",
            "('feta cheese crumbles', 'cayenne pepper')\n",
            "('feta cheese crumbles', 'cream cheese')\n",
            "('feta cheese crumbles', 'hummus')\n",
            "('feta cheese crumbles', 'herb seasoning')\n",
            "('feta cheese crumbles', 'spaghetti squash')\n",
            "('feta cheese crumbles', 'sun-dried tomatoes')\n",
            "('feta cheese crumbles', 'bread crumbs')\n",
            "('feta cheese crumbles', 'fresh lemon')\n",
            "('feta cheese crumbles', 'frozen spinach')\n",
            "('feta cheese crumbles', 'tuna steaks')\n",
            "('feta cheese crumbles', 'oliv pit ripe')\n",
            "('feta cheese crumbles', 'semolina flour')\n",
            "('feta cheese crumbles', 'parsley')\n",
            "('feta cheese crumbles', 'dill')\n",
            "('feta cheese crumbles', 'spearmint')\n",
            "('feta cheese crumbles', 'leeks')\n",
            "('feta cheese crumbles', 'white sugar')\n",
            "('feta cheese crumbles', 'whole wheat pita')\n",
            "('feta cheese crumbles', 'chickpeas')\n",
            "('feta cheese crumbles', 'low-fat plain yogurt')\n",
            "('feta cheese crumbles', 'kalamata olive halves')\n",
            "('feta cheese crumbles', 'orzo')\n",
            "('feta cheese crumbles', 'orecchiette')\n",
            "('feta cheese crumbles', 'Italian turkey sausage')\n",
            "('feta cheese crumbles', 'Spike Seasoning')\n",
            "('feta cheese crumbles', 'red wine vinaigrette')\n",
            "('feta cheese crumbles', 'frozen basil')\n",
            "('feta cheese crumbles', 'beans')\n",
            "('feta cheese crumbles', 'roasted tomatoes')\n",
            "('feta cheese crumbles', 'orzo pasta')\n",
            "('feta cheese crumbles', 'boneless chicken breast halves')\n",
            "('feta cheese crumbles', 'brine-cured black olives')\n",
            "('feta cheese crumbles', 'kefalotyri')\n",
            "('feta cheese crumbles', 'freshly ground pepper')\n",
            "('feta cheese crumbles', 'filo dough')\n",
            "('feta cheese crumbles', 'unsalted butter')\n",
            "('feta cheese crumbles', 'bacon pieces')\n",
            "('feta cheese crumbles', 'tortillas')\n",
            "('feta cheese crumbles', 'Land O Lakes® Butter')\n",
            "('feta cheese crumbles', 'fresh tomatoes')\n",
            "('feta cheese crumbles', 'bone-in chicken breast halves')\n",
            "('feta cheese crumbles', 'tomatillos')\n",
            "('feta cheese crumbles', 'shredded Monterey Jack cheese')\n",
            "('feta cheese crumbles', 'round sourdough bread')\n",
            "('feta cheese crumbles', 'vinaigrette')\n",
            "('feta cheese crumbles', 'dri oregano leaves, crush')\n",
            "('feta cheese crumbles', 'vidalia onion')\n",
            "('feta cheese crumbles', 'avocado')\n",
            "('feta cheese crumbles', 'corn kernels')\n",
            "('feta cheese crumbles', 'green chile')\n",
            "('feta cheese crumbles', 'ears')\n",
            "('feta cheese crumbles', 'rice')\n",
            "('feta cheese crumbles', 'hothouse cucumber')\n",
            "('feta cheese crumbles', 'spinach leaves')\n",
            "('feta cheese crumbles', 'brine-cured olives')\n",
            "('feta cheese crumbles', 'pita bread rounds')\n",
            "('feta cheese crumbles', 'pizza crust')\n",
            "('feta cheese crumbles', 'pizza sauce')\n",
            "('feta cheese crumbles', 'mozzarella cheese')\n",
            "('feta cheese crumbles', 'golden raisins')\n",
            "('feta cheese crumbles', 'lemon slices')\n",
            "('feta cheese crumbles', 'chicken breast halves')\n",
            "('feta cheese crumbles', 'yellow squash')\n",
            "('feta cheese crumbles', 'tilapia fillets')\n",
            "('feta cheese crumbles', 'penne')\n",
            "('feta cheese crumbles', 'romaine lettuce leaves')\n",
            "('feta cheese crumbles', 'frozen corn kernels')\n",
            "('feta cheese crumbles', 'cooked chicken breasts')\n",
            "('feta cheese crumbles', 'jalapeno chilies')\n",
            "('feta cheese crumbles', 'enchilada sauce')\n",
            "('feta cheese crumbles', 'fresh lime juice')\n",
            "('feta cheese crumbles', 'fresh orange juice')\n",
            "('feta cheese crumbles', 'cantaloupe')\n",
            "('feta cheese crumbles', 'honeydew melon')\n",
            "('feta cheese crumbles', 'nectarines')\n",
            "('feta cheese crumbles', 'cavatappi')\n",
            "('feta cheese crumbles', 'sugar pea')\n",
            "('feta cheese crumbles', 'chiles')\n",
            "('feta cheese crumbles', 'flour tortillas')\n",
            "('feta cheese crumbles', 'spring onions')\n",
            "('feta cheese crumbles', 'lime juice')\n",
            "('feta cheese crumbles', 'shredded cabbage')\n",
            "('feta cheese crumbles', 'garlic salt')\n",
            "('feta cheese crumbles', 'chopped cilantro')\n",
            "('feta cheese crumbles', 'smoked paprika')\n",
            "('feta cheese crumbles', 'cumin')\n",
            "('feta cheese crumbles', 'chunk light tuna in water')\n",
            "('feta cheese crumbles', 'sherry wine vinegar')\n",
            "('feta cheese crumbles', 'sauce')\n",
            "('feta cheese crumbles', 'almonds')\n",
            "('feta cheese crumbles', 'yukon gold potatoes')\n",
            "('feta cheese crumbles', 'tomato paste')\n",
            "('feta cheese crumbles', 'chopped fresh thyme')\n",
            "('feta cheese crumbles', 'pimento stuffed olives')\n",
            "('feta cheese crumbles', 'deli ham')\n",
            "('feta cheese crumbles', 'pita rounds')\n",
            "('feta cheese crumbles', 'hungarian paprika')\n",
            "('feta cheese crumbles', 'large shrimp')\n",
            "('feta cheese crumbles', 'oregano')\n",
            "('feta cheese crumbles', 'white vermouth')\n",
            "('feta cheese crumbles', 'crushed red pepper flakes')\n",
            "('feta cheese crumbles', 'fennel bulb')\n",
            "('feta cheese crumbles', 'greens')\n",
            "('feta cheese crumbles', 'grated lemon peel')\n",
            "('feta cheese crumbles', 'ground round')\n",
            "('feta cheese crumbles', 'sandwich buns')\n",
            "('feta cheese crumbles', 'bread crumb fresh')\n",
            "('feta cheese crumbles', 'light mayonnaise')\n",
            "('feta cheese crumbles', 'dry red wine')\n",
            "('feta cheese crumbles', 'chicken thighs')\n",
            "('feta cheese crumbles', 'quickcooking grits')\n",
            "('feta cheese crumbles', 'whipping cream')\n",
            "('feta cheese crumbles', 'thyme sprigs')\n",
            "('feta cheese crumbles', 'hot pepper sauce')\n",
            "('feta cheese crumbles', 'brown lentils')\n",
            "('feta cheese crumbles', 'vegetable stock')\n",
            "('feta cheese crumbles', 'stewed tomatoes')\n",
            "('feta cheese crumbles', 'bay leaf')\n",
            "('feta cheese crumbles', 'bread dough')\n",
            "('feta cheese crumbles', 'jack cheese')\n",
            "('feta cheese crumbles', 'fresh oregano leaves')\n",
            "('feta cheese crumbles', 'brown hash potato')\n",
            "('feta cheese crumbles', 'egg substitute')\n",
            "('feta cheese crumbles', 'chicken broth')\n",
            "('feta cheese crumbles', 'croutons')\n",
            "('feta cheese crumbles', 'fresh thyme')\n",
            "('feta cheese crumbles', 'shrimp')\n",
            "('feta cheese crumbles', 'medium shrimp uncook')\n",
            "('feta cheese crumbles', 'red wine')\n",
            "('feta cheese crumbles', 'dried minced onion')\n",
            "('feta cheese crumbles', 'dried tarragon leaves')\n",
            "('feta cheese crumbles', 'flour')\n",
            "('feta cheese crumbles', 'fresh cilantro')\n",
            "('feta cheese crumbles', 'green chilies')\n",
            "('feta cheese crumbles', 'cilantro sprigs')\n",
            "('feta cheese crumbles', 'low-fat ricotta cheese')\n",
            "('feta cheese crumbles', 'sharp cheddar cheese')\n",
            "('feta cheese crumbles', 'navel oranges')\n",
            "('feta cheese crumbles', 'tomato sauce')\n",
            "('feta cheese crumbles', 'basil')\n",
            "('feta cheese crumbles', 'fresh marjoram')\n",
            "('feta cheese crumbles', 'cheese')\n",
            "('feta cheese crumbles', 'half & half')\n",
            "('feta cheese crumbles', 'ground white pepper')\n",
            "('feta cheese crumbles', 'clove')\n",
            "('feta cheese crumbles', 'green olives')\n",
            "('feta cheese crumbles', 'dried dillweed')\n",
            "('feta cheese crumbles', 'ground sirloin')\n",
            "('feta cheese crumbles', 'frozen pizza dough')\n",
            "('feta cheese crumbles', 'cinnamon')\n",
            "('feta cheese crumbles', 'pita bread')\n",
            "('feta cheese crumbles', 'sliced tomatoes')\n",
            "('feta cheese crumbles', 'black beans')\n",
            "('feta cheese crumbles', 'ground coriander')\n",
            "('feta cheese crumbles', 'pistachios')\n",
            "('feta cheese crumbles', 'cilantro')\n",
            "('feta cheese crumbles', 'currant')\n",
            "('feta cheese crumbles', 'dried apricot')\n",
            "('feta cheese crumbles', 'scallions')\n",
            "('feta cheese crumbles', 'fennel')\n",
            "('feta cheese crumbles', 'serrano')\n",
            "('feta cheese crumbles', 'jumbo shrimp')\n",
            "('feta cheese crumbles', 'chardonnay')\n",
            "('feta cheese crumbles', 'chile pepper')\n",
            "('feta cheese crumbles', 'fronds')\n",
            "('feta cheese crumbles', 'mixed greens')\n",
            "('feta cheese crumbles', 'shank half')\n",
            "('feta cheese crumbles', 'fennel seeds')\n",
            "('feta cheese crumbles', 'fontina cheese')\n",
            "('feta cheese crumbles', 'baked pizza crust')\n",
            "('feta cheese crumbles', 'pizza shells')\n",
            "('feta cheese crumbles', 'Mazola Canola Oil')\n",
            "('feta cheese crumbles', 'fresh tarragon')\n",
            "('feta cheese crumbles', 'wine')\n",
            "('feta cheese crumbles', 'grapes')\n",
            "('feta cheese crumbles', 'flank steak')\n",
            "('feta cheese crumbles', 'dry bread crumbs')\n",
            "('feta cheese crumbles', 'olive oil flavored cooking spray')\n",
            "('feta cheese crumbles', 'low-fat buttermilk')\n",
            "('feta cheese crumbles', 'reduced-fat sour cream')\n",
            "('feta cheese crumbles', 'dough')\n",
            "('feta cheese crumbles', 'sliced mushrooms')\n",
            "('feta cheese crumbles', 'cornmeal')\n",
            "('feta cheese crumbles', 'toasted pine nuts')\n",
            "('feta cheese crumbles', 'basil pesto sauce')\n",
            "('feta cheese crumbles', 'fusilli')\n",
            "('feta cheese crumbles', 'corn starch')\n",
            "('feta cheese crumbles', 'cottage cheese')\n",
            "('feta cheese crumbles', 'canola oil')\n",
            "('feta cheese crumbles', 'panko')\n",
            "('feta cheese crumbles', 'coarse kosher salt')\n",
            "('feta cheese crumbles', 'pear tomatoes')\n",
            "('feta cheese crumbles', 'whole wheat penne')\n",
            "('feta cheese crumbles', 'pepperoncini')\n",
            "('feta cheese crumbles', 'spaghetti')\n",
            "('feta cheese crumbles', 'genoa salami')\n",
            "('feta cheese crumbles', 'water packed artichoke hearts')\n",
            "('feta cheese crumbles', 'low-fat greek yogurt')\n",
            "('feta cheese crumbles', 'carrots')\n",
            "('feta cheese crumbles', 'vegetables')\n",
            "('feta cheese crumbles', 'reduced fat mayonnaise')\n",
            "('feta cheese crumbles', 'hot sauce')\n",
            "('feta cheese crumbles', 'arborio rice')\n",
            "('feta cheese crumbles', 'champagne')\n",
            "('feta cheese crumbles', 'fresh parmesan cheese')\n",
            "('feta cheese crumbles', 'artichok heart marin')\n",
            "('feta cheese crumbles', 'dressing')\n",
            "('feta cheese crumbles', 'pepperoni turkei')\n",
            "('feta cheese crumbles', 'whole wheat pita bread rounds')\n",
            "('feta cheese crumbles', 'mint')\n",
            "('feta cheese crumbles', 'pita pockets')\n",
            "('feta cheese crumbles', 'small red potato')\n",
            "('feta cheese crumbles', 'beet greens')\n",
            "('feta cheese crumbles', 'butter-flavored spray')\n",
            "('feta cheese crumbles', 'fresh asparagus')\n",
            "('feta cheese crumbles', 'nonstick spray')\n",
            "('feta cheese crumbles', 'uncooked ziti')\n",
            "('feta cheese crumbles', 'reduced fat milk')\n",
            "('feta cheese crumbles', 'rocket leaves')\n",
            "('feta cheese crumbles', 'chicken breasts')\n",
            "('feta cheese crumbles', 'vegetable broth')\n",
            "('feta cheese crumbles', 'peeled tomatoes')\n",
            "('feta cheese crumbles', 'littleneck clams')\n",
            "('feta cheese crumbles', 'clam juice')\n",
            "('feta cheese crumbles', 'smoked chicken sausages')\n",
            "('feta cheese crumbles', 'parmesan cheese')\n",
            "('feta cheese crumbles', 'noodles')\n",
            "('feta cheese crumbles', 'sweet pepper')\n",
            "('feta cheese crumbles', 'crumbled blue cheese')\n",
            "('feta cheese crumbles', 'kale')\n",
            "('feta cheese crumbles', 'whole wheat tortillas')\n",
            "('feta cheese crumbles', 'canned black beans')\n",
            "('feta cheese crumbles', 'whole wheat thin spaghetti')\n",
            "('feta cheese crumbles', 'base')\n",
            "('feta cheese crumbles', 'cumin seed')\n",
            "('feta cheese crumbles', 'sugar substitute')\n",
            "('feta cheese crumbles', 'sesame oil')\n",
            "('feta cheese crumbles', 'mandarin oranges')\n",
            "('feta cheese crumbles', 'almond flour')\n",
            "('feta cheese crumbles', 'tahini')\n",
            "('feta cheese crumbles', 'tuna packed in water')\n",
            "('feta cheese crumbles', 'butter lettuce')\n",
            "('feta cheese crumbles', 'sherry vinegar')\n",
            "('feta cheese crumbles', 'slaw mix')\n",
            "('feta cheese crumbles', 'red cabbage')\n",
            "('feta cheese crumbles', 'salsa')\n",
            "('feta cheese crumbles', 'vegetarian refried beans')\n",
            "('feta cheese crumbles', 'tempeh')\n",
            "('feta cheese crumbles', 'whole wheat rotini pasta')\n",
            "('feta cheese crumbles', 'bell pepper')\n",
            "('feta cheese crumbles', 'lemon wedge')\n",
            "('feta cheese crumbles', 'nonfat yogurt plain')\n",
            "('feta cheese crumbles', 'tomato purée')\n",
            "('feta cheese crumbles', 'butter beans')\n",
            "('feta cheese crumbles', 'lamb fillet')\n",
            "('feta cheese crumbles', 'organic vegetable broth')\n",
            "('feta cheese crumbles', 'cooked quinoa')\n",
            "('feta cheese crumbles', 'hearts of romaine')\n",
            "('feta cheese crumbles', 'parsnips')\n",
            "('feta cheese crumbles', 'freshly grated parmesan')\n",
            "('feta cheese crumbles', 'tortellini')\n",
            "('feta cheese crumbles', 'fresh cheese')\n",
            "('feta cheese crumbles', 'diced celery')\n",
            "('feta cheese crumbles', 'elbow macaroni')\n",
            "('feta cheese crumbles', 'hot red pepper flakes')\n",
            "('feta cheese crumbles', 'acini di pepe')\n",
            "('feta cheese crumbles', 'jasmine rice')\n",
            "('feta cheese crumbles', 'hard-boiled egg')\n",
            "('feta cheese crumbles', 'coconut oil')\n",
            "('feta cheese crumbles', 'refried beans')\n",
            "('feta cheese crumbles', 'chipotles in adobo')\n",
            "('feta cheese crumbles', 'oil cured olives')\n",
            "('feta cheese crumbles', 'artichokes')\n",
            "('feta cheese crumbles', 'pocket bread')\n",
            "('feta cheese crumbles', 'bamboo shoots')\n",
            "('feta cheese crumbles', 'brandy')\n",
            "('feta cheese crumbles', 'shredded lettuce')\n",
            "('feta cheese crumbles', 'marjoram')\n",
            "('feta cheese crumbles', 'fresh veget')\n",
            "('feta cheese crumbles', 'curry powder')\n",
            "('feta cheese crumbles', 'peeled fresh ginger')\n",
            "('feta cheese crumbles', 'tomato juice')\n",
            "('feta cheese crumbles', 'worcestershire sauce')\n",
            "('feta cheese crumbles', 'salad greens')\n",
            "('feta cheese crumbles', 'flat leaf spinach')\n",
            "('feta cheese crumbles', 'lettuce')\n",
            "('feta cheese crumbles', 'grill seasoning')\n",
            "('feta cheese crumbles', 'coriander')\n",
            "('feta cheese crumbles', 'preserved lemon')\n",
            "('feta cheese crumbles', 'slivered almonds')\n",
            "('feta cheese crumbles', 'phyllo')\n",
            "('feta cheese crumbles', 'yellow peppers')\n",
            "('feta cheese crumbles', 'balsamic vinaigrette')\n",
            "('feta cheese crumbles', 'iceberg lettuce')\n",
            "('feta cheese crumbles', 'rotini')\n",
            "('feta cheese crumbles', 'pita chips')\n",
            "('feta cheese crumbles', 'Mezzetta Sliced Greek Kalamata Olives')\n",
            "('feta cheese crumbles', 'poblano chiles')\n",
            "('feta cheese crumbles', 'parsley flakes')\n",
            "('feta cheese crumbles', 'egg whites')\n",
            "('feta cheese crumbles', 'lean ground meat')\n",
            "('feta cheese crumbles', 'roti')\n",
            "('feta cheese crumbles', 'gouda')\n",
            "('feta cheese crumbles', 'masala')\n",
            "('feta cheese crumbles', 'grating cheese')\n",
            "('feta cheese crumbles', 'paratha')\n",
            "('feta cheese crumbles', 'pepper jack')\n",
            "('feta cheese crumbles', 'onion powder')\n",
            "('feta cheese crumbles', 'Tabasco Pepper Sauce')\n",
            "('feta cheese crumbles', 'chopped celery')\n",
            "('feta cheese crumbles', 'dried lentils')\n",
            "('feta cheese crumbles', 'bay leaves')\n",
            "('feta cheese crumbles', 'dried red chile peppers')\n",
            "('feta cheese crumbles', 'green cabbage')\n",
            "('feta cheese crumbles', 'burger buns')\n",
            "('feta cheese crumbles', 'Italian parsley leaves')\n",
            "('feta cheese crumbles', 'tzatziki')\n",
            "('feta cheese crumbles', 'dried mint flakes')\n",
            "('feta cheese crumbles', 'breakfast sausages')\n",
            "('feta cheese crumbles', 'solid white tuna')\n",
            "('feta cheese crumbles', 'creole seasoning')\n",
            "('feta cheese crumbles', 'onion tops')\n",
            "('feta cheese crumbles', 'fettuccine pasta')\n",
            "('feta cheese crumbles', 'lamb steaks')\n",
            "('feta cheese crumbles', 'thin pizza crust')\n",
            "('feta cheese crumbles', 'cream')\n",
            "('feta cheese crumbles', 'cooked rice')\n",
            "('feta cheese crumbles', 'ground allspice')\n",
            "('feta cheese crumbles', 'cold water')\n",
            "('feta cheese crumbles', 'swiss chard')\n",
            "('feta cheese crumbles', 'picholine olives')\n",
            "('feta cheese crumbles', 'radicchio')\n",
            "('feta cheese crumbles', 'ground cayenne pepper')\n",
            "('feta cheese crumbles', 'sundried tomato pesto')\n",
            "('feta cheese crumbles', 'sunflower kernels')\n",
            "('feta cheese crumbles', 'soy sauce')\n",
            "('feta cheese crumbles', 'rib eye steaks')\n",
            "('feta cheese crumbles', 'whole wheat penne pasta')\n",
            "('feta cheese crumbles', 'pita wedges')\n",
            "('feta cheese crumbles', 'green leaf lettuce')\n",
            "('feta cheese crumbles', 'dill tips')\n",
            "('feta cheese crumbles', 'mussels')\n",
            "('feta cheese crumbles', 'zest')\n",
            "('feta cheese crumbles', 'dry vermouth')\n",
            "('feta cheese crumbles', 'cooked bacon')\n",
            "('feta cheese crumbles', 'egg yolks')\n",
            "('feta cheese crumbles', 'white onion')\n",
            "('feta cheese crumbles', 'sweet potatoes')\n",
            "('feta cheese crumbles', 'cabbage')\n",
            "('feta cheese crumbles', 'lime')\n",
            "('feta cheese crumbles', 'fine sea salt')\n",
            "('feta cheese crumbles', 'pepitas')\n",
            "('feta cheese crumbles', 'green lentil')\n",
            "('feta cheese crumbles', 'gemelli')\n",
            "('feta cheese crumbles', 'lemon rind')\n",
            "('feta cheese crumbles', 'cayenne')\n",
            "('feta cheese crumbles', 'ground turmeric')\n",
            "('feta cheese crumbles', 'round loaf')\n",
            "('feta cheese crumbles', 'calamata olives')\n",
            "('feta cheese crumbles', 'mushrooms')\n",
            "('feta cheese crumbles', 'cooked long-grain brown rice')\n",
            "('feta cheese crumbles', 'sourdough bread')\n",
            "('feta cheese crumbles', 'Greek dressing')\n",
            "('feta cheese crumbles', 'bulgur')\n",
            "('feta cheese crumbles', 'provolone cheese')\n",
            "('feta cheese crumbles', 'chopped fresh herbs')\n",
            "('feta cheese crumbles', 'safflower oil')\n",
            "('feta cheese crumbles', 'pumpkin')\n",
            "('feta cheese crumbles', 'chili flakes')\n",
            "('feta cheese crumbles', 'spring roll wrappers')\n",
            "('feta cheese crumbles', 'salmon fillets')\n",
            "('feta cheese crumbles', 'low-fat caesar dressing')\n",
            "('feta cheese crumbles', 'sprinkles')\n",
            "('feta cheese crumbles', 'mahimahi fillet')\n",
            "('feta cheese crumbles', 'great northern beans')\n",
            "('feta cheese crumbles', 'shredded Italian cheese')\n",
            "('feta cheese crumbles', 'margarine')\n",
            "('feta cheese crumbles', 'baby arugula')\n",
            "('feta cheese crumbles', 'pasta sauce')\n",
            "('feta cheese crumbles', 'pepperoni')\n",
            "('feta cheese crumbles', 'bulk italian sausag')\n",
            "('feta cheese crumbles', 'russet potatoes')\n",
            "('feta cheese crumbles', 'white cornmeal')\n",
            "('feta cheese crumbles', 'buttermilk')\n",
            "('feta cheese crumbles', 'rapid rise yeast')\n",
            "('feta cheese crumbles', 'pearl barley')\n",
            "('feta cheese crumbles', 'homemade chicken stock')\n",
            "('feta cheese crumbles', 'campanelle')\n",
            "('feta cheese crumbles', 'mango chutney')\n",
            "('feta cheese crumbles', 'basil dried leaves')\n",
            "('feta cheese crumbles', 'walnuts')\n",
            "('feta cheese crumbles', 'parsley leaves')\n",
            "('feta cheese crumbles', 'celery ribs')\n",
            "('feta cheese crumbles', 'pears')\n",
            "('feta cheese crumbles', 'veal shanks')\n",
            "('feta cheese crumbles', 'whole milk')\n",
            "('feta cheese crumbles', 'lean ground beef')\n",
            "('feta cheese crumbles', 'butternut squash')\n",
            "('feta cheese crumbles', 'ranch dressing')\n",
            "('feta cheese crumbles', 'oven-ready lasagna noodles')\n",
            "('feta cheese crumbles', 'seasoned bread crumbs')\n",
            "('feta cheese crumbles', 'japanese eggplants')\n",
            "('feta cheese crumbles', 'greek-style vinaigrette')\n",
            "('feta cheese crumbles', 'hot Italian sausages')\n",
            "('feta cheese crumbles', 'whole peeled tomatoes')\n",
            "('feta cheese crumbles', 'lentils')\n",
            "('feta cheese crumbles', 'roasting chickens')\n",
            "('feta cheese crumbles', 'crimini mushrooms')\n"
          ]
        }
      ],
      "source": [
        "# C2:SanityCheck\n",
        "\n",
        "recipe_graph = create_recipe_graph(recipes)\n",
        "for edge in recipe_graph.edges:\n",
        "    if edge[0] == \"feta cheese crumbles\":\n",
        "        print(edge)"
      ]
    },
    {
      "cell_type": "markdown",
      "metadata": {
        "id": "BFROtUkjpbyU"
      },
      "source": [
        "__C3.__ _(8 pts)_ Utilize NetworkX and the ingredients network and find the node degrees, i.e., numbers of connections to other ingredients across the recipes. Use this to compute the network's average and median degrees, and to print the top $5$ ingredients by degree. Discuss this output and how it helps you to understand if you've constructed the network correctly."
      ]
    },
    {
      "cell_type": "markdown",
      "metadata": {
        "id": "hrUTOUrQpbyU"
      },
      "source": [
        "_Response._ The top five ingredients are pretty ubiquitous in recipes, and this not too surprising. This is good&mdash;it makes sense that ingrediernts like `'salt'` would be connected to many other, i.e., in most other recipes."
      ]
    },
    {
      "cell_type": "code",
      "execution_count": null,
      "metadata": {
        "id": "4uayI7LapbyV"
      },
      "outputs": [],
      "source": [
        "# C3:Inline(2/8)\n",
        "\n",
        "# Return the average degree of the nodes in the graph you constructed in C2\n",
        "# (e.g., compute the degrees of every node, then use numpy to find the mean)"
      ]
    },
    {
      "cell_type": "code",
      "execution_count": null,
      "metadata": {
        "id": "pmCBH83CpbyV"
      },
      "outputs": [],
      "source": [
        "# C3:Inline(2/8)\n",
        "\n",
        "# Return the median degree of the nodes in the graph you constructed in C2\n",
        "# (e.g., compute the degrees of every node, then use numpy to find the median)"
      ]
    },
    {
      "cell_type": "code",
      "execution_count": null,
      "metadata": {
        "id": "e_DvVu9BpbyV"
      },
      "outputs": [],
      "source": [
        "# C3:Inline(2/8)\n",
        "\n",
        "# Return a list of the top five ingredients by degree from this cell.\n",
        "# The list should contain tuples that contain the ingredient and the\n",
        "# degree of the ingredient. E.g., your output should be of the form:\n",
        "# `[('<ingredient1>', <degree of ingredient1>),\n",
        "#   ('<ingredient2>', <degree of ingredient2>), ...]`"
      ]
    },
    {
      "cell_type": "code",
      "execution_count": null,
      "metadata": {
        "id": "KdAKxYzrpbyV",
        "colab": {
          "base_uri": "https://localhost:8080/"
        },
        "outputId": "6eb88326-f5aa-448d-92ff-fdc12f6edf42"
      },
      "outputs": [
        {
          "output_type": "stream",
          "name": "stdout",
          "text": [
            "Yes\n"
          ]
        }
      ],
      "source": [
        "# C3:Inline(2/8)\n",
        "\n",
        "# Look at these five ingredients with the higest degrees, do they\n",
        "# help you understand if you've constructed the network correctly?\n",
        "# Print your answer as \"Yes\" or \"No\"\n",
        "print(\"Yes\")"
      ]
    },
    {
      "cell_type": "markdown",
      "metadata": {
        "id": "xfyOVzT_pbyW"
      },
      "source": [
        "__C4.__ _(7 pts)_ Now, write a function called `get_degree_numbers_and_counts` that accepts a NetworkX `graph` (the output from your `create_recipe_graph` function). This function should compute the degrees of each node in the graph and for each degree $k$, it counts up the number of nodes $n_k$ that have degree $k$. It should then store the unique values of $k$ in a list called `degree_numbers` and the corresponding values $n_k$ in a list called `degree_counts`, sort these two lists in order of decreasing $k$, and return them as a tuple: `(degree_numbers, degree_counts)`.\n",
        "\n",
        "\\[Hint: `from collections import Counter` for an object type that will make the counting and sorting processes very easy when starting from a list of `degrees`.\\]"
      ]
    },
    {
      "cell_type": "code",
      "execution_count": null,
      "metadata": {
        "id": "oIOtLTNrpbyW"
      },
      "outputs": [],
      "source": [
        "# C4:Function(5/7)\n",
        "from collections import Counter\n",
        "\n",
        "def get_degree_numbers_and_counts(graph):\n",
        "\n",
        "    #---Your code starts here\n",
        "    degrees = dict(graph.degree()).values()\n",
        "\n",
        "    degree_count = Counter(degrees)\n",
        "\n",
        "    degree_numbers = list(degree_count.keys())\n",
        "    degree_counts = list(degree_count.values())\n",
        "\n",
        "    sort = sorted(range(len(degree_numbers)), key=lambda i: -degree_numbers[i])\n",
        "    degree_numbers = [degree_numbers[i] for i in sort]\n",
        "    degree_counts = [degree_counts[i] for i in sort]\n",
        "    #---Your code ends here\n",
        "\n",
        "    return degree_numbers, degree_counts"
      ]
    },
    {
      "cell_type": "markdown",
      "metadata": {
        "id": "E-HwH3JJpbyW"
      },
      "source": [
        "Let's apply your function to get the degree_numbers and degree_counts for our recipe_graph and then look at the top five degree numbers and degree counts. Your ouput should look like this:\n",
        "`((15, 12, 11, 10, 14), (174, 169, 162, 155, 150))`"
      ]
    },
    {
      "cell_type": "code",
      "execution_count": null,
      "metadata": {
        "id": "PevQWVePpbyW",
        "colab": {
          "base_uri": "https://localhost:8080/"
        },
        "outputId": "1c747686-2c81-4077-e211-3731e311f5c6"
      },
      "outputs": [
        {
          "output_type": "execute_result",
          "data": {
            "text/plain": [
              "([4881, 3892, 3661, 3543, 3435], [1, 1, 1, 1, 1])"
            ]
          },
          "metadata": {},
          "execution_count": 9
        }
      ],
      "source": [
        "# C4:SanityCheck\n",
        "degree_numbers, degree_counts = get_degree_numbers_and_counts(recipe_graph)\n",
        "degree_numbers[:5], degree_counts[:5]"
      ]
    },
    {
      "cell_type": "code",
      "execution_count": null,
      "metadata": {
        "id": "NKmZfsx0pbyX",
        "colab": {
          "base_uri": "https://localhost:8080/"
        },
        "outputId": "0f220cdd-fc90-45d3-90c9-8c85721ec666"
      },
      "outputs": [
        {
          "output_type": "stream",
          "name": "stdout",
          "text": [
            "Yes\n"
          ]
        }
      ],
      "source": [
        "# C4:Inline(2/7)\n",
        "\n",
        "# Look at the the top five most common degree numbers (the mode)\n",
        "# and any difference in these values from the average and median degrees reported\n",
        "# in __C3__. Do you believe these data are skewed? Print \"Yes\" or \"No\"\n",
        "print(\"Yes\")"
      ]
    },
    {
      "cell_type": "markdown",
      "metadata": {
        "id": "v3NCseohpbyX"
      },
      "source": [
        "__C5.__ _(5 pts)_ Your next job is to create a function called `plot_degree_numbers_and_counts` that takes  `degree_numbers` and `degree_counts` (e.g., like the data you generated in _C4_) and outputs a matplotlib scatter plot visualizing the _logarithms_ of these values, using the numpy utility `np.log10()` on each. The x-axis of the figure should be $Log_{10}($num nodes$)$ and the y-axis should be the $Log_{10}($degree$)$. When visualizing the scatter plot data, set the size of each point to be 10 (i.e, `s=10`), the color to be `'k'`, and the marker to be `'.'`. The function should return the matplotlib figure object."
      ]
    },
    {
      "cell_type": "code",
      "execution_count": 38,
      "metadata": {
        "id": "jDWMWDeqpbyX"
      },
      "outputs": [],
      "source": [
        "# C5:Function(4/5)\n",
        "\n",
        "%matplotlib inline\n",
        "from matplotlib import pyplot as plt\n",
        "import numpy as np\n",
        "\n",
        "def plot_degree_numbers_and_counts(degree_numbers, degree_counts):\n",
        "\n",
        "    fig = plt.figure(figsize = (5,5))\n",
        "\n",
        "    #--- Your code starts here\n",
        "    log_degree_numbers = np.log10(degree_numbers)\n",
        "    log_degree_counts = np.log10(degree_counts)\n",
        "\n",
        "    plt.scatter(log_degree_numbers, log_degree_counts, s=10, c='k', marker='.')\n",
        "    #--- Your code ends here\n",
        "\n",
        "    plt.xlabel(\"$Log_{10}($degree$)$\", size = 15)\n",
        "    plt.ylabel(\"$Log_{10}($num nodes$)$\", size = 15)\n",
        "\n",
        "    return fig"
      ]
    },
    {
      "cell_type": "markdown",
      "metadata": {
        "id": "9WUHhuo4pbyX"
      },
      "source": [
        "Let's test your function by using it to generate a plot for our recipie numbers and counts. Your resulting figure should look like this:\n",
        "\n",
        "![Expected Output](img/c5-expected-output.png)\n"
      ]
    },
    {
      "cell_type": "code",
      "execution_count": 39,
      "metadata": {
        "id": "_FkzfI1upbyX",
        "colab": {
          "base_uri": "https://localhost:8080/",
          "height": 475
        },
        "outputId": "82cce107-244c-4d19-b378-9a63b7d13d2f"
      },
      "outputs": [
        {
          "output_type": "display_data",
          "data": {
            "text/plain": [
              "<Figure size 500x500 with 1 Axes>"
            ],
            "image/png": "[encoded data removed]"
          },
          "metadata": {}
        }
      ],
      "source": [
        "# C5:SanityCheck\n",
        "fig = plot_degree_numbers_and_counts(degree_numbers, degree_counts)"
      ]
    },
    {
      "cell_type": "code",
      "execution_count": null,
      "metadata": {
        "id": "YD58ctcbpbyY",
        "colab": {
          "base_uri": "https://localhost:8080/"
        },
        "outputId": "4829f21f-d3f4-4e95-c496-7763f9e27e3a"
      },
      "outputs": [
        {
          "output_type": "stream",
          "name": "stdout",
          "text": [
            "Yes\n"
          ]
        }
      ],
      "source": [
        "# C5:Inline(1/5)\n",
        "\n",
        "# Look at the visualization, do the two transformed quantitiees appear to exhibit a relationship? Print \"Yes\" or \"No\".\n",
        "print(\"Yes\")"
      ]
    },
    {
      "cell_type": "markdown",
      "metadata": {
        "id": "JuHMLhH4pbyY"
      },
      "source": [
        "__C6.__ _(3 pts)_ For a given node $u$ in our network $G$, let $\\Gamma(u)$ denote the set of $u$'s neighbors, i.e., set of nodes linked to $u$.\n",
        "\n",
        "In this part of the assignment we'll be utilizing the Jaccard coefficient (__Chapter 3.1.5.2__) similarity function on neighborhoods of nodes to determine the foods most likely to link to one anothers, i.e., appear in a recipe together heretofore unseen.\n",
        "\n",
        "In particular, the Jaccard coefficient of nodes $u$ and $v$ is defined as\n",
        "\n",
        "$$\\frac{|\\Gamma(u) \\cap \\Gamma(v)|}{|\\Gamma(u) \\cup \\Gamma(v)|}$$\n",
        "\n",
        "where $\\Gamma(u)$ denotes the set of neighbors of $u$ and can be computed through networkx utilizing the `nx.jaccard_coefficient(G, ebunch=None)` utility.\n",
        "\n",
        "To begin, apply the `nx.jaccard_coefficient()` function to a few seemingly dispirate and a few seemingly similar ingredients (to your sensibilities). Once this is done, remark on the function of the measure in the response box below. Does this measure work as expected?"
      ]
    },
    {
      "cell_type": "code",
      "execution_count": null,
      "metadata": {
        "id": "EjrSRhC3pbyY"
      },
      "outputs": [],
      "source": [
        "# C6:Inline(1/3)\n",
        "\n",
        "# Apply the nx.jaccard_coefficient() function to the recipe graph\n",
        "# to compute the similarity between the ingredients 'salmon' and\n",
        "# 'chocolate'. Return the similarity score from this cell (e.g.,\n",
        "# it will be a numerical value like `0.0374822283838`).\n"
      ]
    },
    {
      "cell_type": "code",
      "execution_count": null,
      "metadata": {
        "id": "QgUlK-rdpbyY"
      },
      "outputs": [],
      "source": [
        "# C6:Inline(1/3)\n",
        "\n",
        "# Apply the nx.jaccard_coefficient() function to the recipe graph\n",
        "# to compute the similarity between the ingredients 'coffee' and\n",
        "# 'chocolate'. Return the similarity score from this cell (e.g.,\n",
        "# it will be a numerical value like `0.0374822283838`).\n"
      ]
    },
    {
      "cell_type": "code",
      "execution_count": null,
      "metadata": {
        "id": "W_AL26Y2pbyZ",
        "colab": {
          "base_uri": "https://localhost:8080/"
        },
        "outputId": "f2c117f2-b191-4a2e-bf18-fc0f15b0bb22"
      },
      "outputs": [
        {
          "output_type": "stream",
          "name": "stdout",
          "text": [
            "Yes\n"
          ]
        }
      ],
      "source": [
        "# C6:Inline(1/3)\n",
        "\n",
        "# Do these outputs make sense? I.e., do the two ingredients we\n",
        "# think of as more similar \"coffee\" and \"chocolate\" have a higher\n",
        "# similarity score than those we think of as less similar?\n",
        "# print \"Yes\" or \"No\"\n",
        "print(\"Yes\")"
      ]
    },
    {
      "cell_type": "markdown",
      "metadata": {
        "id": "HoZmKs2cpbyZ"
      },
      "source": [
        "__C7.__ _(5 pts)_ Next, write a function called `unlinked`, which takes a NetworkX `graph` and the name of a node in the graph (`node_name`). This function should create a list of node `names` using the `graph.nodes()` method and corresponding adjacency matrtix from `nx.to_numpy_matrix(...)`. The function shoul then returns a list of the names of all other nodes (ingredients) for which the node (queried ingredient, `node_name`) shares no link."
      ]
    },
    {
      "cell_type": "markdown",
      "metadata": {
        "id": "msbdaZI8pbyZ"
      },
      "source": [
        "_Response._ Yes, since many recipes have `'salt'` as an ingredient it  make sense that the result will be much larger for `'chocolate'`."
      ]
    },
    {
      "cell_type": "code",
      "execution_count": null,
      "metadata": {
        "id": "Kcw6KpMWpbyZ"
      },
      "outputs": [],
      "source": [
        "# C7:Function(4/5)\n",
        "\n",
        "def unlinked(graph, node_name):\n",
        "\n",
        "    #---Your code starts here\n",
        "    nodes = list(graph.nodes())\n",
        "    adj_matrix = nx.to_numpy_array(graph, nodelist=nodes)\n",
        "    node_index = nodes.index(node_name)\n",
        "\n",
        "    unlinked_nodes = []\n",
        "\n",
        "    for i, node in enumerate(nodes):\n",
        "        if i != node_index and adj_matrix[node_index, i] == 0:\n",
        "            unlinked_nodes.append(node)\n",
        "    #---Your code ends here\n",
        "\n",
        "    return unlinked_nodes"
      ]
    },
    {
      "cell_type": "markdown",
      "metadata": {
        "id": "XvRgynl7pbya"
      },
      "source": [
        "Let's test this function by using it to evaluate the outputs for 'salt' and 'chocolate'. Let's also look at the size of the outputs for each. Your output should look like this:\n",
        "\n",
        "```\n",
        "Unlinked from salt: ['white almond bark', 'Johnsonville Andouille Dinner Sausage', 'giardiniera', 'Oscar Mayer Deli Fresh Smoked Ham', 'yellow cake mix']\n",
        "Unlinked from chocolate: ['feta cheese crumbles', 'seasoning', 'grape tomatoes', 'black olives', 'garbanzo beans']\n",
        "\n",
        "# of nodes unlinked from salt: 1834\n",
        "# of nodes unlinked from chocolate: 6515\n",
        "```"
      ]
    },
    {
      "cell_type": "code",
      "execution_count": null,
      "metadata": {
        "id": "0NrqOH90pbya",
        "colab": {
          "base_uri": "https://localhost:8080/"
        },
        "outputId": "a67e58a5-d338-4411-bcf4-8eb994d6481b"
      },
      "outputs": [
        {
          "output_type": "stream",
          "name": "stdout",
          "text": [
            "Unlinked from salt: ['white almond bark', 'Johnsonville Andouille Dinner Sausage', 'Oscar Mayer Deli Fresh Smoked Ham', 'giardiniera', 'yellow cake mix']\n",
            "Unlinked from chocolate: ['romaine lettuce', 'black olives', 'grape tomatoes', 'pepper', 'purple onion']\n",
            "\n",
            "# of nodes unlinked from salt: 1834\n",
            "# of nodes unlinked from chocolate: 6515\n"
          ]
        }
      ],
      "source": [
        "# C7:SanityCheck\n",
        "\n",
        "unlinked_from_salt = unlinked(recipe_graph, \"salt\")\n",
        "unlinked_from_chocolate = unlinked(recipe_graph, \"chocolate\")\n",
        "\n",
        "print(\"Unlinked from salt:\", unlinked_from_salt[:5])\n",
        "print(\"Unlinked from chocolate:\", unlinked_from_chocolate[:5])\n",
        "print()\n",
        "print(\"# of nodes unlinked from salt: {}\".format(len(unlinked_from_salt)))\n",
        "print(\"# of nodes unlinked from chocolate: {}\".format(len(unlinked_from_chocolate)))"
      ]
    },
    {
      "cell_type": "code",
      "execution_count": null,
      "metadata": {
        "id": "3uyJjrTapbya",
        "colab": {
          "base_uri": "https://localhost:8080/"
        },
        "outputId": "eeaf36dd-a0a3-4ef2-fdbf-560ec82ee944"
      },
      "outputs": [
        {
          "output_type": "stream",
          "name": "stdout",
          "text": [
            "Yes\n"
          ]
        }
      ],
      "source": [
        "# C7:Inline(1/5)\n",
        "\n",
        "# Compare the size of outputs from this function for the two quired nodes:\n",
        "# `'salt'` and `'chocolate'`. Does the output make sense? Print \"Yes\" or \"No\"\n",
        "print(\"Yes\")"
      ]
    },
    {
      "cell_type": "markdown",
      "metadata": {
        "id": "4s1BSfkJpbya"
      },
      "source": [
        "__C8.__ _(5 pts)_ Finally, write a function called `likely_ingredients` that takes two arguments, a networkx `graph` and the name of a node (`node_name`). Given these inputs the function should apply the `unlinked` function you wrote in _C7_ to compute all the nodes that are unlinked from the target node. Then the function should use the `nx.jaccard_coefficient(...)` function to compute the jaccard coefficient between our target node and each of the nodes in its unlinked list. Finally, the function should sort these values by the Jaccard coefficient and return the resulting list (`sorted_similarities`). The output of this function (`sorted_similiarities`) should be a list of tuples of the following format:\n",
        "```\n",
        "[('<node_name>', 'unlinked_node1_name', 0.3333333333333),\n",
        " ('<node_name>', 'unlinked_node2_name', 0.2222222222222),\n",
        " ...]\n",
        "```"
      ]
    },
    {
      "cell_type": "code",
      "execution_count": null,
      "metadata": {
        "id": "6hytIvP9pbya"
      },
      "outputs": [],
      "source": [
        "# C8:Function(4/5)\n",
        "\n",
        "def likely_ingredients(graph, node_name):\n",
        "\n",
        "    #---Your code starts here\n",
        "    unlinked_nodes = unlinked(graph, node_name)\n",
        "\n",
        "    jaccard_coeffs = []\n",
        "\n",
        "    for unlinked_node in unlinked_nodes:\n",
        "        coeffs = list(nx.jaccard_coefficient(graph, [(node_name, unlinked_node)]))\n",
        "        if coeffs:\n",
        "            jaccard_coeff = coeffs[0][2]\n",
        "            jaccard_coeffs.append((node_name, unlinked_node, jaccard_coeff))\n",
        "    sorted_similarities = sorted(jaccard_coeffs, key=lambda x: x[2], reverse=True)\n",
        "    #---Your code ends here\n",
        "\n",
        "    return sorted_similarities"
      ]
    },
    {
      "cell_type": "markdown",
      "metadata": {
        "id": "_sPkASInpbyf"
      },
      "source": [
        "Now, let's test your functino by using it to compute the top 5 most similar unlinked nodes for \"whisky\" and \"chocolate\". Your output should look like this:\n",
        "```\n",
        "[('whiskey', 'apple cider', 0.25663716814159293),\n",
        " ('whiskey', 'Irish whiskey', 0.24489795918367346),\n",
        " ('whiskey', 'firmly packed light brown sugar', 0.24203821656050956),\n",
        " ('whiskey', 'dark corn syrup', 0.24124513618677043),\n",
        " ('whiskey', 'pitted date', 0.24)]\n",
        "\n",
        "[('chocolate', 'instant espresso powder', 0.2540192926045016),\n",
        " ('chocolate', 'whole almonds', 0.24731182795698925),\n",
        " ('chocolate', 'mexican chocolate', 0.23825503355704697),\n",
        " ('chocolate', 'semi-sweet chocolate morsels', 0.23636363636363636),\n",
        " ('chocolate', 'coffee liqueur', 0.2283464566929134)]\n",
        " ```"
      ]
    },
    {
      "cell_type": "code",
      "execution_count": null,
      "metadata": {
        "id": "bquxZxbQpbyf",
        "colab": {
          "base_uri": "https://localhost:8080/"
        },
        "outputId": "9c5203a1-d246-4739-ada3-3e65dd9fcc9e"
      },
      "outputs": [
        {
          "output_type": "stream",
          "name": "stdout",
          "text": [
            "[('whiskey', 'apple cider', 0.258160237388724),\n",
            " ('whiskey', 'Irish whiskey', 0.24691358024691357),\n",
            " ('whiskey', 'firmly packed light brown sugar', 0.24358974358974358),\n",
            " ('whiskey', 'dark corn syrup', 0.24313725490196078),\n",
            " ('whiskey', 'pitted date', 0.24148606811145512)]\n",
            "\n",
            "[('chocolate', 'instant espresso powder', 0.255663430420712),\n",
            " ('chocolate', 'whole almonds', 0.2490974729241877),\n",
            " ('chocolate', 'mexican chocolate', 0.23986486486486486),\n",
            " ('chocolate', 'semi-sweet chocolate morsels', 0.23780487804878048),\n",
            " ('chocolate', 'coffee liqueur', 0.23015873015873015)]\n"
          ]
        }
      ],
      "source": [
        "# C8:SanityCheck\n",
        "\n",
        "from pprint import pprint\n",
        "pprint(likely_ingredients(recipe_graph, \"whiskey\")[:5])\n",
        "print()\n",
        "pprint(likely_ingredients(recipe_graph, \"chocolate\")[:5])"
      ]
    },
    {
      "cell_type": "code",
      "execution_count": null,
      "metadata": {
        "id": "qYKLH3jipbyf",
        "colab": {
          "base_uri": "https://localhost:8080/"
        },
        "outputId": "8f3da8c6-a053-4f41-8963-d67969a03a46"
      },
      "outputs": [
        {
          "output_type": "stream",
          "name": "stdout",
          "text": [
            "both\n"
          ]
        }
      ],
      "source": [
        "# C8:Inline(1/5)\n",
        "\n",
        "# Do you think this analysis provides information useful for determining\n",
        "# substitutions, constructing new recipe pairings, or both?\n",
        "# Print \"pairings\", \"subsitutions\", or \"both\"\n",
        "print(\"both\")"
      ]
    },
    {
      "cell_type": "code",
      "source": [
        "!jupyter nbconvert --to html --execute /content/A2_module_C.ipynb\n"
      ],
      "metadata": {
        "colab": {
          "base_uri": "https://localhost:8080/"
        },
        "id": "lBDuYUV8yNeM",
        "outputId": "2ed8d52c-f9cd-4590-f10c-0b391cb384b1"
      },
      "execution_count": 37,
      "outputs": [
        {
          "output_type": "stream",
          "name": "stdout",
          "text": [
            "[NbConvertApp] Converting notebook /content/A2_module_C.ipynb to html\n",
            "Traceback (most recent call last):\n",
            "  File \"/usr/local/bin/jupyter-nbconvert\", line 8, in <module>\n",
            "    sys.exit(main())\n",
            "  File \"/usr/local/lib/python3.10/dist-packages/jupyter_core/application.py\", line 283, in launch_instance\n",
            "    super().launch_instance(argv=argv, **kwargs)\n",
            "  File \"/usr/local/lib/python3.10/dist-packages/traitlets/config/application.py\", line 992, in launch_instance\n",
            "    app.start()\n",
            "  File \"/usr/local/lib/python3.10/dist-packages/nbconvert/nbconvertapp.py\", line 423, in start\n",
            "    self.convert_notebooks()\n",
            "  File \"/usr/local/lib/python3.10/dist-packages/nbconvert/nbconvertapp.py\", line 597, in convert_notebooks\n",
            "    self.convert_single_notebook(notebook_filename)\n",
            "  File \"/usr/local/lib/python3.10/dist-packages/nbconvert/nbconvertapp.py\", line 560, in convert_single_notebook\n",
            "    output, resources = self.export_single_notebook(\n",
            "  File \"/usr/local/lib/python3.10/dist-packages/nbconvert/nbconvertapp.py\", line 488, in export_single_notebook\n",
            "    output, resources = self.exporter.from_filename(\n",
            "  File \"/usr/local/lib/python3.10/dist-packages/nbconvert/exporters/exporter.py\", line 189, in from_filename\n",
            "    return self.from_file(f, resources=resources, **kw)\n",
            "  File \"/usr/local/lib/python3.10/dist-packages/nbconvert/exporters/exporter.py\", line 206, in from_file\n",
            "    return self.from_notebook_node(\n",
            "  File \"/usr/local/lib/python3.10/dist-packages/nbconvert/exporters/html.py\", line 223, in from_notebook_node\n",
            "    return super().from_notebook_node(nb, resources, **kw)\n",
            "  File \"/usr/local/lib/python3.10/dist-packages/nbconvert/exporters/templateexporter.py\", line 397, in from_notebook_node\n",
            "    nb_copy, resources = super().from_notebook_node(nb, resources, **kw)\n",
            "  File \"/usr/local/lib/python3.10/dist-packages/nbconvert/exporters/exporter.py\", line 146, in from_notebook_node\n",
            "    nb_copy, resources = self._preprocess(nb_copy, resources)\n",
            "  File \"/usr/local/lib/python3.10/dist-packages/nbconvert/exporters/exporter.py\", line 335, in _preprocess\n",
            "    nbc, resc = preprocessor(nbc, resc)\n",
            "  File \"/usr/local/lib/python3.10/dist-packages/nbconvert/preprocessors/base.py\", line 47, in __call__\n",
            "    return self.preprocess(nb, resources)\n",
            "  File \"/usr/local/lib/python3.10/dist-packages/nbconvert/preprocessors/execute.py\", line 89, in preprocess\n",
            "    self.preprocess_cell(cell, resources, index)\n",
            "  File \"/usr/local/lib/python3.10/dist-packages/nbconvert/preprocessors/execute.py\", line 110, in preprocess_cell\n",
            "    cell = self.execute_cell(cell, index, store_history=True)\n",
            "  File \"/usr/local/lib/python3.10/dist-packages/jupyter_core/utils/__init__.py\", line 165, in wrapped\n",
            "    return loop.run_until_complete(inner)\n",
            "  File \"/usr/lib/python3.10/asyncio/base_events.py\", line 649, in run_until_complete\n",
            "    return future.result()\n",
            "  File \"/usr/local/lib/python3.10/dist-packages/nbclient/client.py\", line 1062, in async_execute_cell\n",
            "    await self._check_raise_for_error(cell, cell_index, exec_reply)\n",
            "  File \"/usr/local/lib/python3.10/dist-packages/nbclient/client.py\", line 918, in _check_raise_for_error\n",
            "    raise CellExecutionError.from_cell_and_msg(cell, exec_reply_content)\n",
            "nbclient.exceptions.CellExecutionError: An error occurred while executing the following cell:\n",
            "------------------\n",
            "# C5:SanityCheck\n",
            "fig = plot_degree_numbers_and_counts(degree_numbers, degree_counts)\n",
            "------------------\n",
            "\n",
            "\n",
            "\u001b[0;31m---------------------------------------------------------------------------\u001b[0m\n",
            "\u001b[0;31mNameError\u001b[0m                                 Traceback (most recent call last)\n",
            "\u001b[0;32m<ipython-input-14-8fec67b532c5>\u001b[0m in \u001b[0;36m<cell line: 2>\u001b[0;34m()\u001b[0m\n",
            "\u001b[1;32m      1\u001b[0m \u001b[0;31m# C5:SanityCheck\u001b[0m\u001b[0;34m\u001b[0m\u001b[0;34m\u001b[0m\u001b[0m\n",
            "\u001b[0;32m----> 2\u001b[0;31m \u001b[0mfig\u001b[0m \u001b[0;34m=\u001b[0m \u001b[0mplot_degree_numbers_and_counts\u001b[0m\u001b[0;34m(\u001b[0m\u001b[0mdegree_numbers\u001b[0m\u001b[0;34m,\u001b[0m \u001b[0mdegree_counts\u001b[0m\u001b[0;34m)\u001b[0m\u001b[0;34m\u001b[0m\u001b[0;34m\u001b[0m\u001b[0m\n",
            "\u001b[0m\n",
            "\u001b[0;32m<ipython-input-13-37f55eae7231>\u001b[0m in \u001b[0;36mplot_degree_numbers_and_counts\u001b[0;34m(degree_numbers, degree_counts)\u001b[0m\n",
            "\u001b[1;32m      9\u001b[0m \u001b[0;34m\u001b[0m\u001b[0m\n",
            "\u001b[1;32m     10\u001b[0m     \u001b[0;31m#--- Your code starts here\u001b[0m\u001b[0;34m\u001b[0m\u001b[0;34m\u001b[0m\u001b[0m\n",
            "\u001b[0;32m---> 11\u001b[0;31m     \u001b[0mlog_degree_numbers\u001b[0m \u001b[0;34m=\u001b[0m \u001b[0mnp\u001b[0m\u001b[0;34m.\u001b[0m\u001b[0mlog10\u001b[0m\u001b[0;34m(\u001b[0m\u001b[0mdegree_numbers\u001b[0m\u001b[0;34m)\u001b[0m\u001b[0;34m\u001b[0m\u001b[0;34m\u001b[0m\u001b[0m\n",
            "\u001b[0m\u001b[1;32m     12\u001b[0m     \u001b[0mlog_degree_counts\u001b[0m \u001b[0;34m=\u001b[0m \u001b[0mnp\u001b[0m\u001b[0;34m.\u001b[0m\u001b[0mlog10\u001b[0m\u001b[0;34m(\u001b[0m\u001b[0mdegree_counts\u001b[0m\u001b[0;34m)\u001b[0m\u001b[0;34m\u001b[0m\u001b[0;34m\u001b[0m\u001b[0m\n",
            "\u001b[1;32m     13\u001b[0m \u001b[0;34m\u001b[0m\u001b[0m\n",
            "\n",
            "\u001b[0;31mNameError\u001b[0m: name 'np' is not defined\n",
            "\n"
          ]
        }
      ]
    }
  ],
  "metadata": {
    "kernelspec": {
      "display_name": "Python 3",
      "language": "python",
      "name": "python3"
    },
    "language_info": {
      "codemirror_mode": {
        "name": "ipython",
        "version": 3
      },
      "file_extension": ".py",
      "mimetype": "text/x-python",
      "name": "python",
      "nbconvert_exporter": "python",
      "pygments_lexer": "ipython3",
      "version": "3.8.6"
    },
    "colab": {
      "provenance": []
    }
  },
  "nbformat": 4,
  "nbformat_minor": 0
}